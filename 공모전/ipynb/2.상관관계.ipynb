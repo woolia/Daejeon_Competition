{
 "cells": [
  {
   "cell_type": "code",
   "execution_count": 1,
   "metadata": {},
   "outputs": [
    {
     "name": "stderr",
     "output_type": "stream",
     "text": [
      "/opt/app-root/lib/python3.6/site-packages/geopandas/_compat.py:91: UserWarning: The Shapely GEOS version (3.8.0-CAPI-1.13.1 ) is incompatible with the GEOS version PyGEOS was compiled with (3.9.0-CAPI-1.16.2). Conversions between both will be slow.\n",
      "  shapely_geos_version, geos_capi_version_string\n"
     ]
    }
   ],
   "source": [
    "import geopandas as gpd\n",
    "import pandas as pd"
   ]
  },
  {
   "cell_type": "code",
   "execution_count": 2,
   "metadata": {},
   "outputs": [],
   "source": [
    "from geoband.API import *\n",
    "GetCompasData('SBJ_2102_003', '16', '16.대전광역시_기상데이터(2017~2019).csv')"
   ]
  },
  {
   "cell_type": "code",
   "execution_count": 3,
   "metadata": {
    "scrolled": true
   },
   "outputs": [
    {
     "data": {
      "text/html": [
       "<div>\n",
       "<style scoped>\n",
       "    .dataframe tbody tr th:only-of-type {\n",
       "        vertical-align: middle;\n",
       "    }\n",
       "\n",
       "    .dataframe tbody tr th {\n",
       "        vertical-align: top;\n",
       "    }\n",
       "\n",
       "    .dataframe thead th {\n",
       "        text-align: right;\n",
       "    }\n",
       "</style>\n",
       "<table border=\"1\" class=\"dataframe\">\n",
       "  <thead>\n",
       "    <tr style=\"text-align: right;\">\n",
       "      <th></th>\n",
       "      <th>일시</th>\n",
       "      <th>평균기온(°C)</th>\n",
       "      <th>최저기온(°C)</th>\n",
       "      <th>최고기온(°C)</th>\n",
       "      <th>일강수량(mm)</th>\n",
       "      <th>최대 풍속(m/s)</th>\n",
       "      <th>최대 풍속 풍향(16방위)</th>\n",
       "      <th>평균 풍속(m/s)</th>\n",
       "      <th>평균 상대습도(%)</th>\n",
       "      <th>일 최심적설(cm)</th>\n",
       "      <th>평균 지면온도(°C)</th>\n",
       "      <th>안개 계속시간(hr)</th>\n",
       "    </tr>\n",
       "  </thead>\n",
       "  <tbody>\n",
       "    <tr>\n",
       "      <th>0</th>\n",
       "      <td>2017-01-01</td>\n",
       "      <td>3.5</td>\n",
       "      <td>-1.3</td>\n",
       "      <td>10.7</td>\n",
       "      <td>NaN</td>\n",
       "      <td>3.1</td>\n",
       "      <td>180</td>\n",
       "      <td>0.7</td>\n",
       "      <td>81.5</td>\n",
       "      <td>NaN</td>\n",
       "      <td>3.3</td>\n",
       "      <td>NaN</td>\n",
       "    </tr>\n",
       "    <tr>\n",
       "      <th>1</th>\n",
       "      <td>2017-01-02</td>\n",
       "      <td>4.7</td>\n",
       "      <td>-0.4</td>\n",
       "      <td>10.8</td>\n",
       "      <td>NaN</td>\n",
       "      <td>5.2</td>\n",
       "      <td>180</td>\n",
       "      <td>1.5</td>\n",
       "      <td>83.0</td>\n",
       "      <td>NaN</td>\n",
       "      <td>3.4</td>\n",
       "      <td>NaN</td>\n",
       "    </tr>\n",
       "    <tr>\n",
       "      <th>2</th>\n",
       "      <td>2017-01-03</td>\n",
       "      <td>3.3</td>\n",
       "      <td>-1.5</td>\n",
       "      <td>9.2</td>\n",
       "      <td>NaN</td>\n",
       "      <td>3.9</td>\n",
       "      <td>180</td>\n",
       "      <td>1.4</td>\n",
       "      <td>77.1</td>\n",
       "      <td>NaN</td>\n",
       "      <td>3.0</td>\n",
       "      <td>NaN</td>\n",
       "    </tr>\n",
       "    <tr>\n",
       "      <th>3</th>\n",
       "      <td>2017-01-04</td>\n",
       "      <td>4.2</td>\n",
       "      <td>-0.2</td>\n",
       "      <td>10.7</td>\n",
       "      <td>NaN</td>\n",
       "      <td>2.4</td>\n",
       "      <td>320</td>\n",
       "      <td>1.0</td>\n",
       "      <td>70.5</td>\n",
       "      <td>NaN</td>\n",
       "      <td>3.1</td>\n",
       "      <td>NaN</td>\n",
       "    </tr>\n",
       "    <tr>\n",
       "      <th>4</th>\n",
       "      <td>2017-01-05</td>\n",
       "      <td>4.3</td>\n",
       "      <td>-0.7</td>\n",
       "      <td>9.3</td>\n",
       "      <td>NaN</td>\n",
       "      <td>5.6</td>\n",
       "      <td>110</td>\n",
       "      <td>1.9</td>\n",
       "      <td>71.3</td>\n",
       "      <td>NaN</td>\n",
       "      <td>2.9</td>\n",
       "      <td>NaN</td>\n",
       "    </tr>\n",
       "    <tr>\n",
       "      <th>...</th>\n",
       "      <td>...</td>\n",
       "      <td>...</td>\n",
       "      <td>...</td>\n",
       "      <td>...</td>\n",
       "      <td>...</td>\n",
       "      <td>...</td>\n",
       "      <td>...</td>\n",
       "      <td>...</td>\n",
       "      <td>...</td>\n",
       "      <td>...</td>\n",
       "      <td>...</td>\n",
       "      <td>...</td>\n",
       "    </tr>\n",
       "    <tr>\n",
       "      <th>1090</th>\n",
       "      <td>2019-12-27</td>\n",
       "      <td>0.1</td>\n",
       "      <td>-3.1</td>\n",
       "      <td>5.2</td>\n",
       "      <td>NaN</td>\n",
       "      <td>3.5</td>\n",
       "      <td>250</td>\n",
       "      <td>1.3</td>\n",
       "      <td>62.8</td>\n",
       "      <td>NaN</td>\n",
       "      <td>1.6</td>\n",
       "      <td>NaN</td>\n",
       "    </tr>\n",
       "    <tr>\n",
       "      <th>1091</th>\n",
       "      <td>2019-12-28</td>\n",
       "      <td>0.6</td>\n",
       "      <td>-5.0</td>\n",
       "      <td>8.2</td>\n",
       "      <td>NaN</td>\n",
       "      <td>1.9</td>\n",
       "      <td>50</td>\n",
       "      <td>0.8</td>\n",
       "      <td>64.3</td>\n",
       "      <td>NaN</td>\n",
       "      <td>1.1</td>\n",
       "      <td>NaN</td>\n",
       "    </tr>\n",
       "    <tr>\n",
       "      <th>1092</th>\n",
       "      <td>2019-12-29</td>\n",
       "      <td>2.0</td>\n",
       "      <td>-2.3</td>\n",
       "      <td>6.3</td>\n",
       "      <td>7.0</td>\n",
       "      <td>4.0</td>\n",
       "      <td>70</td>\n",
       "      <td>1.1</td>\n",
       "      <td>76.6</td>\n",
       "      <td>NaN</td>\n",
       "      <td>1.6</td>\n",
       "      <td>NaN</td>\n",
       "    </tr>\n",
       "    <tr>\n",
       "      <th>1093</th>\n",
       "      <td>2019-12-30</td>\n",
       "      <td>4.2</td>\n",
       "      <td>-0.4</td>\n",
       "      <td>9.4</td>\n",
       "      <td>1.5</td>\n",
       "      <td>5.8</td>\n",
       "      <td>270</td>\n",
       "      <td>1.5</td>\n",
       "      <td>86.9</td>\n",
       "      <td>NaN</td>\n",
       "      <td>4.2</td>\n",
       "      <td>1.67</td>\n",
       "    </tr>\n",
       "    <tr>\n",
       "      <th>1094</th>\n",
       "      <td>2019-12-31</td>\n",
       "      <td>-4.7</td>\n",
       "      <td>-7.5</td>\n",
       "      <td>-0.4</td>\n",
       "      <td>0.0</td>\n",
       "      <td>4.9</td>\n",
       "      <td>250</td>\n",
       "      <td>2.5</td>\n",
       "      <td>55.0</td>\n",
       "      <td>NaN</td>\n",
       "      <td>-0.4</td>\n",
       "      <td>NaN</td>\n",
       "    </tr>\n",
       "  </tbody>\n",
       "</table>\n",
       "<p>1095 rows × 12 columns</p>\n",
       "</div>"
      ],
      "text/plain": [
       "              일시  평균기온(°C)  최저기온(°C)  최고기온(°C)  일강수량(mm)  최대 풍속(m/s)  \\\n",
       "0     2017-01-01       3.5      -1.3      10.7       NaN         3.1   \n",
       "1     2017-01-02       4.7      -0.4      10.8       NaN         5.2   \n",
       "2     2017-01-03       3.3      -1.5       9.2       NaN         3.9   \n",
       "3     2017-01-04       4.2      -0.2      10.7       NaN         2.4   \n",
       "4     2017-01-05       4.3      -0.7       9.3       NaN         5.6   \n",
       "...          ...       ...       ...       ...       ...         ...   \n",
       "1090  2019-12-27       0.1      -3.1       5.2       NaN         3.5   \n",
       "1091  2019-12-28       0.6      -5.0       8.2       NaN         1.9   \n",
       "1092  2019-12-29       2.0      -2.3       6.3       7.0         4.0   \n",
       "1093  2019-12-30       4.2      -0.4       9.4       1.5         5.8   \n",
       "1094  2019-12-31      -4.7      -7.5      -0.4       0.0         4.9   \n",
       "\n",
       "      최대 풍속 풍향(16방위)  평균 풍속(m/s)  평균 상대습도(%)  일 최심적설(cm)  평균 지면온도(°C)  \\\n",
       "0                180         0.7        81.5         NaN          3.3   \n",
       "1                180         1.5        83.0         NaN          3.4   \n",
       "2                180         1.4        77.1         NaN          3.0   \n",
       "3                320         1.0        70.5         NaN          3.1   \n",
       "4                110         1.9        71.3         NaN          2.9   \n",
       "...              ...         ...         ...         ...          ...   \n",
       "1090             250         1.3        62.8         NaN          1.6   \n",
       "1091              50         0.8        64.3         NaN          1.1   \n",
       "1092              70         1.1        76.6         NaN          1.6   \n",
       "1093             270         1.5        86.9         NaN          4.2   \n",
       "1094             250         2.5        55.0         NaN         -0.4   \n",
       "\n",
       "      안개 계속시간(hr)  \n",
       "0             NaN  \n",
       "1             NaN  \n",
       "2             NaN  \n",
       "3             NaN  \n",
       "4             NaN  \n",
       "...           ...  \n",
       "1090          NaN  \n",
       "1091          NaN  \n",
       "1092          NaN  \n",
       "1093         1.67  \n",
       "1094          NaN  \n",
       "\n",
       "[1095 rows x 12 columns]"
      ]
     },
     "execution_count": 3,
     "metadata": {},
     "output_type": "execute_result"
    }
   ],
   "source": [
    "기상데이터 = pd.read_csv('16.대전광역시_기상데이터(2017~2019).csv')\n",
    "기상데이터"
   ]
  },
  {
   "cell_type": "code",
   "execution_count": 4,
   "metadata": {
    "scrolled": true
   },
   "outputs": [
    {
     "data": {
      "text/plain": [
       "일시                   0\n",
       "평균기온(°C)             0\n",
       "최저기온(°C)             0\n",
       "최고기온(°C)             0\n",
       "일강수량(mm)           677\n",
       "최대 풍속(m/s)           0\n",
       "최대 풍속 풍향(16방위)       0\n",
       "평균 풍속(m/s)           2\n",
       "평균 상대습도(%)           0\n",
       "일 최심적설(cm)        1053\n",
       "평균 지면온도(°C)          0\n",
       "안개 계속시간(hr)       1045\n",
       "dtype: int64"
      ]
     },
     "execution_count": 4,
     "metadata": {},
     "output_type": "execute_result"
    }
   ],
   "source": [
    "기상데이터.isnull().sum()"
   ]
  },
  {
   "cell_type": "code",
   "execution_count": 5,
   "metadata": {},
   "outputs": [
    {
     "data": {
      "text/html": [
       "<div>\n",
       "<style scoped>\n",
       "    .dataframe tbody tr th:only-of-type {\n",
       "        vertical-align: middle;\n",
       "    }\n",
       "\n",
       "    .dataframe tbody tr th {\n",
       "        vertical-align: top;\n",
       "    }\n",
       "\n",
       "    .dataframe thead th {\n",
       "        text-align: right;\n",
       "    }\n",
       "</style>\n",
       "<table border=\"1\" class=\"dataframe\">\n",
       "  <thead>\n",
       "    <tr style=\"text-align: right;\">\n",
       "      <th></th>\n",
       "      <th>일시</th>\n",
       "      <th>평균기온(°C)</th>\n",
       "      <th>최저기온(°C)</th>\n",
       "      <th>최고기온(°C)</th>\n",
       "      <th>일강수량(mm)</th>\n",
       "      <th>최대 풍속(m/s)</th>\n",
       "      <th>최대 풍속 풍향(16방위)</th>\n",
       "      <th>평균 풍속(m/s)</th>\n",
       "      <th>평균 상대습도(%)</th>\n",
       "      <th>일 최심적설(cm)</th>\n",
       "      <th>평균 지면온도(°C)</th>\n",
       "      <th>안개 계속시간(hr)</th>\n",
       "    </tr>\n",
       "  </thead>\n",
       "  <tbody>\n",
       "    <tr>\n",
       "      <th>0</th>\n",
       "      <td>2017-01-01</td>\n",
       "      <td>3.5</td>\n",
       "      <td>-1.3</td>\n",
       "      <td>10.7</td>\n",
       "      <td>0.0</td>\n",
       "      <td>3.1</td>\n",
       "      <td>180</td>\n",
       "      <td>0.7</td>\n",
       "      <td>81.5</td>\n",
       "      <td>0.0</td>\n",
       "      <td>3.3</td>\n",
       "      <td>0.00</td>\n",
       "    </tr>\n",
       "    <tr>\n",
       "      <th>1</th>\n",
       "      <td>2017-01-02</td>\n",
       "      <td>4.7</td>\n",
       "      <td>-0.4</td>\n",
       "      <td>10.8</td>\n",
       "      <td>0.0</td>\n",
       "      <td>5.2</td>\n",
       "      <td>180</td>\n",
       "      <td>1.5</td>\n",
       "      <td>83.0</td>\n",
       "      <td>0.0</td>\n",
       "      <td>3.4</td>\n",
       "      <td>0.00</td>\n",
       "    </tr>\n",
       "    <tr>\n",
       "      <th>2</th>\n",
       "      <td>2017-01-03</td>\n",
       "      <td>3.3</td>\n",
       "      <td>-1.5</td>\n",
       "      <td>9.2</td>\n",
       "      <td>0.0</td>\n",
       "      <td>3.9</td>\n",
       "      <td>180</td>\n",
       "      <td>1.4</td>\n",
       "      <td>77.1</td>\n",
       "      <td>0.0</td>\n",
       "      <td>3.0</td>\n",
       "      <td>0.00</td>\n",
       "    </tr>\n",
       "    <tr>\n",
       "      <th>3</th>\n",
       "      <td>2017-01-04</td>\n",
       "      <td>4.2</td>\n",
       "      <td>-0.2</td>\n",
       "      <td>10.7</td>\n",
       "      <td>0.0</td>\n",
       "      <td>2.4</td>\n",
       "      <td>320</td>\n",
       "      <td>1.0</td>\n",
       "      <td>70.5</td>\n",
       "      <td>0.0</td>\n",
       "      <td>3.1</td>\n",
       "      <td>0.00</td>\n",
       "    </tr>\n",
       "    <tr>\n",
       "      <th>4</th>\n",
       "      <td>2017-01-05</td>\n",
       "      <td>4.3</td>\n",
       "      <td>-0.7</td>\n",
       "      <td>9.3</td>\n",
       "      <td>0.0</td>\n",
       "      <td>5.6</td>\n",
       "      <td>110</td>\n",
       "      <td>1.9</td>\n",
       "      <td>71.3</td>\n",
       "      <td>0.0</td>\n",
       "      <td>2.9</td>\n",
       "      <td>0.00</td>\n",
       "    </tr>\n",
       "    <tr>\n",
       "      <th>...</th>\n",
       "      <td>...</td>\n",
       "      <td>...</td>\n",
       "      <td>...</td>\n",
       "      <td>...</td>\n",
       "      <td>...</td>\n",
       "      <td>...</td>\n",
       "      <td>...</td>\n",
       "      <td>...</td>\n",
       "      <td>...</td>\n",
       "      <td>...</td>\n",
       "      <td>...</td>\n",
       "      <td>...</td>\n",
       "    </tr>\n",
       "    <tr>\n",
       "      <th>1090</th>\n",
       "      <td>2019-12-27</td>\n",
       "      <td>0.1</td>\n",
       "      <td>-3.1</td>\n",
       "      <td>5.2</td>\n",
       "      <td>0.0</td>\n",
       "      <td>3.5</td>\n",
       "      <td>250</td>\n",
       "      <td>1.3</td>\n",
       "      <td>62.8</td>\n",
       "      <td>0.0</td>\n",
       "      <td>1.6</td>\n",
       "      <td>0.00</td>\n",
       "    </tr>\n",
       "    <tr>\n",
       "      <th>1091</th>\n",
       "      <td>2019-12-28</td>\n",
       "      <td>0.6</td>\n",
       "      <td>-5.0</td>\n",
       "      <td>8.2</td>\n",
       "      <td>0.0</td>\n",
       "      <td>1.9</td>\n",
       "      <td>50</td>\n",
       "      <td>0.8</td>\n",
       "      <td>64.3</td>\n",
       "      <td>0.0</td>\n",
       "      <td>1.1</td>\n",
       "      <td>0.00</td>\n",
       "    </tr>\n",
       "    <tr>\n",
       "      <th>1092</th>\n",
       "      <td>2019-12-29</td>\n",
       "      <td>2.0</td>\n",
       "      <td>-2.3</td>\n",
       "      <td>6.3</td>\n",
       "      <td>7.0</td>\n",
       "      <td>4.0</td>\n",
       "      <td>70</td>\n",
       "      <td>1.1</td>\n",
       "      <td>76.6</td>\n",
       "      <td>0.0</td>\n",
       "      <td>1.6</td>\n",
       "      <td>0.00</td>\n",
       "    </tr>\n",
       "    <tr>\n",
       "      <th>1093</th>\n",
       "      <td>2019-12-30</td>\n",
       "      <td>4.2</td>\n",
       "      <td>-0.4</td>\n",
       "      <td>9.4</td>\n",
       "      <td>1.5</td>\n",
       "      <td>5.8</td>\n",
       "      <td>270</td>\n",
       "      <td>1.5</td>\n",
       "      <td>86.9</td>\n",
       "      <td>0.0</td>\n",
       "      <td>4.2</td>\n",
       "      <td>1.67</td>\n",
       "    </tr>\n",
       "    <tr>\n",
       "      <th>1094</th>\n",
       "      <td>2019-12-31</td>\n",
       "      <td>-4.7</td>\n",
       "      <td>-7.5</td>\n",
       "      <td>-0.4</td>\n",
       "      <td>0.0</td>\n",
       "      <td>4.9</td>\n",
       "      <td>250</td>\n",
       "      <td>2.5</td>\n",
       "      <td>55.0</td>\n",
       "      <td>0.0</td>\n",
       "      <td>-0.4</td>\n",
       "      <td>0.00</td>\n",
       "    </tr>\n",
       "  </tbody>\n",
       "</table>\n",
       "<p>1095 rows × 12 columns</p>\n",
       "</div>"
      ],
      "text/plain": [
       "              일시  평균기온(°C)  최저기온(°C)  최고기온(°C)  일강수량(mm)  최대 풍속(m/s)  \\\n",
       "0     2017-01-01       3.5      -1.3      10.7       0.0         3.1   \n",
       "1     2017-01-02       4.7      -0.4      10.8       0.0         5.2   \n",
       "2     2017-01-03       3.3      -1.5       9.2       0.0         3.9   \n",
       "3     2017-01-04       4.2      -0.2      10.7       0.0         2.4   \n",
       "4     2017-01-05       4.3      -0.7       9.3       0.0         5.6   \n",
       "...          ...       ...       ...       ...       ...         ...   \n",
       "1090  2019-12-27       0.1      -3.1       5.2       0.0         3.5   \n",
       "1091  2019-12-28       0.6      -5.0       8.2       0.0         1.9   \n",
       "1092  2019-12-29       2.0      -2.3       6.3       7.0         4.0   \n",
       "1093  2019-12-30       4.2      -0.4       9.4       1.5         5.8   \n",
       "1094  2019-12-31      -4.7      -7.5      -0.4       0.0         4.9   \n",
       "\n",
       "      최대 풍속 풍향(16방위)  평균 풍속(m/s)  평균 상대습도(%)  일 최심적설(cm)  평균 지면온도(°C)  \\\n",
       "0                180         0.7        81.5         0.0          3.3   \n",
       "1                180         1.5        83.0         0.0          3.4   \n",
       "2                180         1.4        77.1         0.0          3.0   \n",
       "3                320         1.0        70.5         0.0          3.1   \n",
       "4                110         1.9        71.3         0.0          2.9   \n",
       "...              ...         ...         ...         ...          ...   \n",
       "1090             250         1.3        62.8         0.0          1.6   \n",
       "1091              50         0.8        64.3         0.0          1.1   \n",
       "1092              70         1.1        76.6         0.0          1.6   \n",
       "1093             270         1.5        86.9         0.0          4.2   \n",
       "1094             250         2.5        55.0         0.0         -0.4   \n",
       "\n",
       "      안개 계속시간(hr)  \n",
       "0            0.00  \n",
       "1            0.00  \n",
       "2            0.00  \n",
       "3            0.00  \n",
       "4            0.00  \n",
       "...           ...  \n",
       "1090         0.00  \n",
       "1091         0.00  \n",
       "1092         0.00  \n",
       "1093         1.67  \n",
       "1094         0.00  \n",
       "\n",
       "[1095 rows x 12 columns]"
      ]
     },
     "execution_count": 5,
     "metadata": {},
     "output_type": "execute_result"
    }
   ],
   "source": [
    "기상데이터 = 기상데이터.fillna(0)\n",
    "기상데이터"
   ]
  },
  {
   "cell_type": "code",
   "execution_count": 6,
   "metadata": {},
   "outputs": [],
   "source": [
    "기상데이터['일시'] = 기상데이터['일시'] + \" 00:00\""
   ]
  },
  {
   "cell_type": "code",
   "execution_count": 7,
   "metadata": {},
   "outputs": [
    {
     "data": {
      "text/plain": [
       "'07'"
      ]
     },
     "execution_count": 7,
     "metadata": {},
     "output_type": "execute_result"
    }
   ],
   "source": [
    "'2017-07-07T00:00:00'.split('-')[2][:2]"
   ]
  },
  {
   "cell_type": "code",
   "execution_count": 8,
   "metadata": {},
   "outputs": [],
   "source": [
    "def year(x):\n",
    "    a = x.split('-')[0]\n",
    "    return a\n",
    "def month(x):\n",
    "    a = x.split('-')[1]\n",
    "    return a\n",
    "def day(x):\n",
    "    a = x.split('-')[2][:2]\n",
    "    return a"
   ]
  },
  {
   "cell_type": "code",
   "execution_count": 9,
   "metadata": {},
   "outputs": [],
   "source": [
    "기상데이터['년도'] = 기상데이터['일시']\n",
    "기상데이터['년도'] = 기상데이터['년도'].apply(year)\n",
    "기상데이터['월'] = 기상데이터['일시']\n",
    "기상데이터['월'] = 기상데이터['월'].apply(month)\n",
    "기상데이터['일'] = 기상데이터['일시']\n",
    "기상데이터['일'] = 기상데이터['일'].apply(day)"
   ]
  },
  {
   "cell_type": "code",
   "execution_count": 10,
   "metadata": {},
   "outputs": [
    {
     "data": {
      "text/html": [
       "<div>\n",
       "<style scoped>\n",
       "    .dataframe tbody tr th:only-of-type {\n",
       "        vertical-align: middle;\n",
       "    }\n",
       "\n",
       "    .dataframe tbody tr th {\n",
       "        vertical-align: top;\n",
       "    }\n",
       "\n",
       "    .dataframe thead th {\n",
       "        text-align: right;\n",
       "    }\n",
       "</style>\n",
       "<table border=\"1\" class=\"dataframe\">\n",
       "  <thead>\n",
       "    <tr style=\"text-align: right;\">\n",
       "      <th></th>\n",
       "      <th>일시</th>\n",
       "      <th>평균기온(°C)</th>\n",
       "      <th>최저기온(°C)</th>\n",
       "      <th>최고기온(°C)</th>\n",
       "      <th>일강수량(mm)</th>\n",
       "      <th>최대 풍속(m/s)</th>\n",
       "      <th>최대 풍속 풍향(16방위)</th>\n",
       "      <th>평균 풍속(m/s)</th>\n",
       "      <th>평균 상대습도(%)</th>\n",
       "      <th>일 최심적설(cm)</th>\n",
       "      <th>평균 지면온도(°C)</th>\n",
       "      <th>안개 계속시간(hr)</th>\n",
       "      <th>년도</th>\n",
       "      <th>월</th>\n",
       "      <th>일</th>\n",
       "    </tr>\n",
       "  </thead>\n",
       "  <tbody>\n",
       "    <tr>\n",
       "      <th>0</th>\n",
       "      <td>2017-01-01 00:00</td>\n",
       "      <td>3.5</td>\n",
       "      <td>-1.3</td>\n",
       "      <td>10.7</td>\n",
       "      <td>0.0</td>\n",
       "      <td>3.1</td>\n",
       "      <td>180</td>\n",
       "      <td>0.7</td>\n",
       "      <td>81.5</td>\n",
       "      <td>0.0</td>\n",
       "      <td>3.3</td>\n",
       "      <td>0.00</td>\n",
       "      <td>2017</td>\n",
       "      <td>01</td>\n",
       "      <td>01</td>\n",
       "    </tr>\n",
       "    <tr>\n",
       "      <th>1</th>\n",
       "      <td>2017-01-02 00:00</td>\n",
       "      <td>4.7</td>\n",
       "      <td>-0.4</td>\n",
       "      <td>10.8</td>\n",
       "      <td>0.0</td>\n",
       "      <td>5.2</td>\n",
       "      <td>180</td>\n",
       "      <td>1.5</td>\n",
       "      <td>83.0</td>\n",
       "      <td>0.0</td>\n",
       "      <td>3.4</td>\n",
       "      <td>0.00</td>\n",
       "      <td>2017</td>\n",
       "      <td>01</td>\n",
       "      <td>02</td>\n",
       "    </tr>\n",
       "    <tr>\n",
       "      <th>2</th>\n",
       "      <td>2017-01-03 00:00</td>\n",
       "      <td>3.3</td>\n",
       "      <td>-1.5</td>\n",
       "      <td>9.2</td>\n",
       "      <td>0.0</td>\n",
       "      <td>3.9</td>\n",
       "      <td>180</td>\n",
       "      <td>1.4</td>\n",
       "      <td>77.1</td>\n",
       "      <td>0.0</td>\n",
       "      <td>3.0</td>\n",
       "      <td>0.00</td>\n",
       "      <td>2017</td>\n",
       "      <td>01</td>\n",
       "      <td>03</td>\n",
       "    </tr>\n",
       "    <tr>\n",
       "      <th>3</th>\n",
       "      <td>2017-01-04 00:00</td>\n",
       "      <td>4.2</td>\n",
       "      <td>-0.2</td>\n",
       "      <td>10.7</td>\n",
       "      <td>0.0</td>\n",
       "      <td>2.4</td>\n",
       "      <td>320</td>\n",
       "      <td>1.0</td>\n",
       "      <td>70.5</td>\n",
       "      <td>0.0</td>\n",
       "      <td>3.1</td>\n",
       "      <td>0.00</td>\n",
       "      <td>2017</td>\n",
       "      <td>01</td>\n",
       "      <td>04</td>\n",
       "    </tr>\n",
       "    <tr>\n",
       "      <th>4</th>\n",
       "      <td>2017-01-05 00:00</td>\n",
       "      <td>4.3</td>\n",
       "      <td>-0.7</td>\n",
       "      <td>9.3</td>\n",
       "      <td>0.0</td>\n",
       "      <td>5.6</td>\n",
       "      <td>110</td>\n",
       "      <td>1.9</td>\n",
       "      <td>71.3</td>\n",
       "      <td>0.0</td>\n",
       "      <td>2.9</td>\n",
       "      <td>0.00</td>\n",
       "      <td>2017</td>\n",
       "      <td>01</td>\n",
       "      <td>05</td>\n",
       "    </tr>\n",
       "    <tr>\n",
       "      <th>...</th>\n",
       "      <td>...</td>\n",
       "      <td>...</td>\n",
       "      <td>...</td>\n",
       "      <td>...</td>\n",
       "      <td>...</td>\n",
       "      <td>...</td>\n",
       "      <td>...</td>\n",
       "      <td>...</td>\n",
       "      <td>...</td>\n",
       "      <td>...</td>\n",
       "      <td>...</td>\n",
       "      <td>...</td>\n",
       "      <td>...</td>\n",
       "      <td>...</td>\n",
       "      <td>...</td>\n",
       "    </tr>\n",
       "    <tr>\n",
       "      <th>1090</th>\n",
       "      <td>2019-12-27 00:00</td>\n",
       "      <td>0.1</td>\n",
       "      <td>-3.1</td>\n",
       "      <td>5.2</td>\n",
       "      <td>0.0</td>\n",
       "      <td>3.5</td>\n",
       "      <td>250</td>\n",
       "      <td>1.3</td>\n",
       "      <td>62.8</td>\n",
       "      <td>0.0</td>\n",
       "      <td>1.6</td>\n",
       "      <td>0.00</td>\n",
       "      <td>2019</td>\n",
       "      <td>12</td>\n",
       "      <td>27</td>\n",
       "    </tr>\n",
       "    <tr>\n",
       "      <th>1091</th>\n",
       "      <td>2019-12-28 00:00</td>\n",
       "      <td>0.6</td>\n",
       "      <td>-5.0</td>\n",
       "      <td>8.2</td>\n",
       "      <td>0.0</td>\n",
       "      <td>1.9</td>\n",
       "      <td>50</td>\n",
       "      <td>0.8</td>\n",
       "      <td>64.3</td>\n",
       "      <td>0.0</td>\n",
       "      <td>1.1</td>\n",
       "      <td>0.00</td>\n",
       "      <td>2019</td>\n",
       "      <td>12</td>\n",
       "      <td>28</td>\n",
       "    </tr>\n",
       "    <tr>\n",
       "      <th>1092</th>\n",
       "      <td>2019-12-29 00:00</td>\n",
       "      <td>2.0</td>\n",
       "      <td>-2.3</td>\n",
       "      <td>6.3</td>\n",
       "      <td>7.0</td>\n",
       "      <td>4.0</td>\n",
       "      <td>70</td>\n",
       "      <td>1.1</td>\n",
       "      <td>76.6</td>\n",
       "      <td>0.0</td>\n",
       "      <td>1.6</td>\n",
       "      <td>0.00</td>\n",
       "      <td>2019</td>\n",
       "      <td>12</td>\n",
       "      <td>29</td>\n",
       "    </tr>\n",
       "    <tr>\n",
       "      <th>1093</th>\n",
       "      <td>2019-12-30 00:00</td>\n",
       "      <td>4.2</td>\n",
       "      <td>-0.4</td>\n",
       "      <td>9.4</td>\n",
       "      <td>1.5</td>\n",
       "      <td>5.8</td>\n",
       "      <td>270</td>\n",
       "      <td>1.5</td>\n",
       "      <td>86.9</td>\n",
       "      <td>0.0</td>\n",
       "      <td>4.2</td>\n",
       "      <td>1.67</td>\n",
       "      <td>2019</td>\n",
       "      <td>12</td>\n",
       "      <td>30</td>\n",
       "    </tr>\n",
       "    <tr>\n",
       "      <th>1094</th>\n",
       "      <td>2019-12-31 00:00</td>\n",
       "      <td>-4.7</td>\n",
       "      <td>-7.5</td>\n",
       "      <td>-0.4</td>\n",
       "      <td>0.0</td>\n",
       "      <td>4.9</td>\n",
       "      <td>250</td>\n",
       "      <td>2.5</td>\n",
       "      <td>55.0</td>\n",
       "      <td>0.0</td>\n",
       "      <td>-0.4</td>\n",
       "      <td>0.00</td>\n",
       "      <td>2019</td>\n",
       "      <td>12</td>\n",
       "      <td>31</td>\n",
       "    </tr>\n",
       "  </tbody>\n",
       "</table>\n",
       "<p>1095 rows × 15 columns</p>\n",
       "</div>"
      ],
      "text/plain": [
       "                    일시  평균기온(°C)  최저기온(°C)  최고기온(°C)  일강수량(mm)  최대 풍속(m/s)  \\\n",
       "0     2017-01-01 00:00       3.5      -1.3      10.7       0.0         3.1   \n",
       "1     2017-01-02 00:00       4.7      -0.4      10.8       0.0         5.2   \n",
       "2     2017-01-03 00:00       3.3      -1.5       9.2       0.0         3.9   \n",
       "3     2017-01-04 00:00       4.2      -0.2      10.7       0.0         2.4   \n",
       "4     2017-01-05 00:00       4.3      -0.7       9.3       0.0         5.6   \n",
       "...                ...       ...       ...       ...       ...         ...   \n",
       "1090  2019-12-27 00:00       0.1      -3.1       5.2       0.0         3.5   \n",
       "1091  2019-12-28 00:00       0.6      -5.0       8.2       0.0         1.9   \n",
       "1092  2019-12-29 00:00       2.0      -2.3       6.3       7.0         4.0   \n",
       "1093  2019-12-30 00:00       4.2      -0.4       9.4       1.5         5.8   \n",
       "1094  2019-12-31 00:00      -4.7      -7.5      -0.4       0.0         4.9   \n",
       "\n",
       "      최대 풍속 풍향(16방위)  평균 풍속(m/s)  평균 상대습도(%)  일 최심적설(cm)  평균 지면온도(°C)  \\\n",
       "0                180         0.7        81.5         0.0          3.3   \n",
       "1                180         1.5        83.0         0.0          3.4   \n",
       "2                180         1.4        77.1         0.0          3.0   \n",
       "3                320         1.0        70.5         0.0          3.1   \n",
       "4                110         1.9        71.3         0.0          2.9   \n",
       "...              ...         ...         ...         ...          ...   \n",
       "1090             250         1.3        62.8         0.0          1.6   \n",
       "1091              50         0.8        64.3         0.0          1.1   \n",
       "1092              70         1.1        76.6         0.0          1.6   \n",
       "1093             270         1.5        86.9         0.0          4.2   \n",
       "1094             250         2.5        55.0         0.0         -0.4   \n",
       "\n",
       "      안개 계속시간(hr)    년도   월   일  \n",
       "0            0.00  2017  01  01  \n",
       "1            0.00  2017  01  02  \n",
       "2            0.00  2017  01  03  \n",
       "3            0.00  2017  01  04  \n",
       "4            0.00  2017  01  05  \n",
       "...           ...   ...  ..  ..  \n",
       "1090         0.00  2019  12  27  \n",
       "1091         0.00  2019  12  28  \n",
       "1092         0.00  2019  12  29  \n",
       "1093         1.67  2019  12  30  \n",
       "1094         0.00  2019  12  31  \n",
       "\n",
       "[1095 rows x 15 columns]"
      ]
     },
     "execution_count": 10,
     "metadata": {},
     "output_type": "execute_result"
    }
   ],
   "source": [
    "기상데이터"
   ]
  },
  {
   "cell_type": "code",
   "execution_count": 11,
   "metadata": {},
   "outputs": [],
   "source": [
    "날씨2017 = 기상데이터[기상데이터['년도'] == '2017']\n",
    "날씨2018 = 기상데이터[기상데이터['년도'] == '2018']\n",
    "날씨2019 = 기상데이터[기상데이터['년도'] == '2019']"
   ]
  },
  {
   "cell_type": "code",
   "execution_count": 12,
   "metadata": {},
   "outputs": [
    {
     "data": {
      "text/html": [
       "<div>\n",
       "<style scoped>\n",
       "    .dataframe tbody tr th:only-of-type {\n",
       "        vertical-align: middle;\n",
       "    }\n",
       "\n",
       "    .dataframe tbody tr th {\n",
       "        vertical-align: top;\n",
       "    }\n",
       "\n",
       "    .dataframe thead th {\n",
       "        text-align: right;\n",
       "    }\n",
       "</style>\n",
       "<table border=\"1\" class=\"dataframe\">\n",
       "  <thead>\n",
       "    <tr style=\"text-align: right;\">\n",
       "      <th></th>\n",
       "      <th>일시</th>\n",
       "      <th>평균기온(°C)</th>\n",
       "      <th>최저기온(°C)</th>\n",
       "      <th>최고기온(°C)</th>\n",
       "      <th>일강수량(mm)</th>\n",
       "      <th>최대 풍속(m/s)</th>\n",
       "      <th>최대 풍속 풍향(16방위)</th>\n",
       "      <th>평균 풍속(m/s)</th>\n",
       "      <th>평균 상대습도(%)</th>\n",
       "      <th>일 최심적설(cm)</th>\n",
       "      <th>평균 지면온도(°C)</th>\n",
       "      <th>안개 계속시간(hr)</th>\n",
       "      <th>년도</th>\n",
       "      <th>월</th>\n",
       "      <th>일</th>\n",
       "    </tr>\n",
       "  </thead>\n",
       "  <tbody>\n",
       "    <tr>\n",
       "      <th>0</th>\n",
       "      <td>2017-01-01 00:00</td>\n",
       "      <td>3.5</td>\n",
       "      <td>-1.3</td>\n",
       "      <td>10.7</td>\n",
       "      <td>0.0</td>\n",
       "      <td>3.1</td>\n",
       "      <td>180</td>\n",
       "      <td>0.7</td>\n",
       "      <td>81.5</td>\n",
       "      <td>0.0</td>\n",
       "      <td>3.3</td>\n",
       "      <td>0.00</td>\n",
       "      <td>2017</td>\n",
       "      <td>01</td>\n",
       "      <td>01</td>\n",
       "    </tr>\n",
       "    <tr>\n",
       "      <th>1</th>\n",
       "      <td>2017-01-02 00:00</td>\n",
       "      <td>4.7</td>\n",
       "      <td>-0.4</td>\n",
       "      <td>10.8</td>\n",
       "      <td>0.0</td>\n",
       "      <td>5.2</td>\n",
       "      <td>180</td>\n",
       "      <td>1.5</td>\n",
       "      <td>83.0</td>\n",
       "      <td>0.0</td>\n",
       "      <td>3.4</td>\n",
       "      <td>0.00</td>\n",
       "      <td>2017</td>\n",
       "      <td>01</td>\n",
       "      <td>02</td>\n",
       "    </tr>\n",
       "    <tr>\n",
       "      <th>2</th>\n",
       "      <td>2017-01-03 00:00</td>\n",
       "      <td>3.3</td>\n",
       "      <td>-1.5</td>\n",
       "      <td>9.2</td>\n",
       "      <td>0.0</td>\n",
       "      <td>3.9</td>\n",
       "      <td>180</td>\n",
       "      <td>1.4</td>\n",
       "      <td>77.1</td>\n",
       "      <td>0.0</td>\n",
       "      <td>3.0</td>\n",
       "      <td>0.00</td>\n",
       "      <td>2017</td>\n",
       "      <td>01</td>\n",
       "      <td>03</td>\n",
       "    </tr>\n",
       "    <tr>\n",
       "      <th>3</th>\n",
       "      <td>2017-01-04 00:00</td>\n",
       "      <td>4.2</td>\n",
       "      <td>-0.2</td>\n",
       "      <td>10.7</td>\n",
       "      <td>0.0</td>\n",
       "      <td>2.4</td>\n",
       "      <td>320</td>\n",
       "      <td>1.0</td>\n",
       "      <td>70.5</td>\n",
       "      <td>0.0</td>\n",
       "      <td>3.1</td>\n",
       "      <td>0.00</td>\n",
       "      <td>2017</td>\n",
       "      <td>01</td>\n",
       "      <td>04</td>\n",
       "    </tr>\n",
       "    <tr>\n",
       "      <th>4</th>\n",
       "      <td>2017-01-05 00:00</td>\n",
       "      <td>4.3</td>\n",
       "      <td>-0.7</td>\n",
       "      <td>9.3</td>\n",
       "      <td>0.0</td>\n",
       "      <td>5.6</td>\n",
       "      <td>110</td>\n",
       "      <td>1.9</td>\n",
       "      <td>71.3</td>\n",
       "      <td>0.0</td>\n",
       "      <td>2.9</td>\n",
       "      <td>0.00</td>\n",
       "      <td>2017</td>\n",
       "      <td>01</td>\n",
       "      <td>05</td>\n",
       "    </tr>\n",
       "    <tr>\n",
       "      <th>...</th>\n",
       "      <td>...</td>\n",
       "      <td>...</td>\n",
       "      <td>...</td>\n",
       "      <td>...</td>\n",
       "      <td>...</td>\n",
       "      <td>...</td>\n",
       "      <td>...</td>\n",
       "      <td>...</td>\n",
       "      <td>...</td>\n",
       "      <td>...</td>\n",
       "      <td>...</td>\n",
       "      <td>...</td>\n",
       "      <td>...</td>\n",
       "      <td>...</td>\n",
       "      <td>...</td>\n",
       "    </tr>\n",
       "    <tr>\n",
       "      <th>360</th>\n",
       "      <td>2017-12-27 00:00</td>\n",
       "      <td>-5.1</td>\n",
       "      <td>-9.0</td>\n",
       "      <td>0.5</td>\n",
       "      <td>0.0</td>\n",
       "      <td>3.8</td>\n",
       "      <td>320</td>\n",
       "      <td>1.5</td>\n",
       "      <td>47.4</td>\n",
       "      <td>0.0</td>\n",
       "      <td>-1.9</td>\n",
       "      <td>0.00</td>\n",
       "      <td>2017</td>\n",
       "      <td>12</td>\n",
       "      <td>27</td>\n",
       "    </tr>\n",
       "    <tr>\n",
       "      <th>361</th>\n",
       "      <td>2017-12-28 00:00</td>\n",
       "      <td>-1.6</td>\n",
       "      <td>-6.9</td>\n",
       "      <td>3.0</td>\n",
       "      <td>0.0</td>\n",
       "      <td>2.5</td>\n",
       "      <td>340</td>\n",
       "      <td>0.8</td>\n",
       "      <td>57.9</td>\n",
       "      <td>0.0</td>\n",
       "      <td>-0.8</td>\n",
       "      <td>0.00</td>\n",
       "      <td>2017</td>\n",
       "      <td>12</td>\n",
       "      <td>28</td>\n",
       "    </tr>\n",
       "    <tr>\n",
       "      <th>362</th>\n",
       "      <td>2017-12-29 00:00</td>\n",
       "      <td>2.9</td>\n",
       "      <td>-0.5</td>\n",
       "      <td>6.2</td>\n",
       "      <td>0.0</td>\n",
       "      <td>2.1</td>\n",
       "      <td>200</td>\n",
       "      <td>0.8</td>\n",
       "      <td>78.9</td>\n",
       "      <td>0.0</td>\n",
       "      <td>0.4</td>\n",
       "      <td>0.00</td>\n",
       "      <td>2017</td>\n",
       "      <td>12</td>\n",
       "      <td>29</td>\n",
       "    </tr>\n",
       "    <tr>\n",
       "      <th>363</th>\n",
       "      <td>2017-12-30 00:00</td>\n",
       "      <td>3.5</td>\n",
       "      <td>0.1</td>\n",
       "      <td>7.6</td>\n",
       "      <td>0.9</td>\n",
       "      <td>2.4</td>\n",
       "      <td>160</td>\n",
       "      <td>0.9</td>\n",
       "      <td>80.8</td>\n",
       "      <td>0.0</td>\n",
       "      <td>1.7</td>\n",
       "      <td>0.00</td>\n",
       "      <td>2017</td>\n",
       "      <td>12</td>\n",
       "      <td>30</td>\n",
       "    </tr>\n",
       "    <tr>\n",
       "      <th>364</th>\n",
       "      <td>2017-12-31 00:00</td>\n",
       "      <td>1.3</td>\n",
       "      <td>-2.2</td>\n",
       "      <td>5.6</td>\n",
       "      <td>0.5</td>\n",
       "      <td>4.8</td>\n",
       "      <td>320</td>\n",
       "      <td>1.9</td>\n",
       "      <td>65.8</td>\n",
       "      <td>0.0</td>\n",
       "      <td>2.2</td>\n",
       "      <td>1.25</td>\n",
       "      <td>2017</td>\n",
       "      <td>12</td>\n",
       "      <td>31</td>\n",
       "    </tr>\n",
       "  </tbody>\n",
       "</table>\n",
       "<p>365 rows × 15 columns</p>\n",
       "</div>"
      ],
      "text/plain": [
       "                   일시  평균기온(°C)  최저기온(°C)  최고기온(°C)  일강수량(mm)  최대 풍속(m/s)  \\\n",
       "0    2017-01-01 00:00       3.5      -1.3      10.7       0.0         3.1   \n",
       "1    2017-01-02 00:00       4.7      -0.4      10.8       0.0         5.2   \n",
       "2    2017-01-03 00:00       3.3      -1.5       9.2       0.0         3.9   \n",
       "3    2017-01-04 00:00       4.2      -0.2      10.7       0.0         2.4   \n",
       "4    2017-01-05 00:00       4.3      -0.7       9.3       0.0         5.6   \n",
       "..                ...       ...       ...       ...       ...         ...   \n",
       "360  2017-12-27 00:00      -5.1      -9.0       0.5       0.0         3.8   \n",
       "361  2017-12-28 00:00      -1.6      -6.9       3.0       0.0         2.5   \n",
       "362  2017-12-29 00:00       2.9      -0.5       6.2       0.0         2.1   \n",
       "363  2017-12-30 00:00       3.5       0.1       7.6       0.9         2.4   \n",
       "364  2017-12-31 00:00       1.3      -2.2       5.6       0.5         4.8   \n",
       "\n",
       "     최대 풍속 풍향(16방위)  평균 풍속(m/s)  평균 상대습도(%)  일 최심적설(cm)  평균 지면온도(°C)  \\\n",
       "0               180         0.7        81.5         0.0          3.3   \n",
       "1               180         1.5        83.0         0.0          3.4   \n",
       "2               180         1.4        77.1         0.0          3.0   \n",
       "3               320         1.0        70.5         0.0          3.1   \n",
       "4               110         1.9        71.3         0.0          2.9   \n",
       "..              ...         ...         ...         ...          ...   \n",
       "360             320         1.5        47.4         0.0         -1.9   \n",
       "361             340         0.8        57.9         0.0         -0.8   \n",
       "362             200         0.8        78.9         0.0          0.4   \n",
       "363             160         0.9        80.8         0.0          1.7   \n",
       "364             320         1.9        65.8         0.0          2.2   \n",
       "\n",
       "     안개 계속시간(hr)    년도   월   일  \n",
       "0           0.00  2017  01  01  \n",
       "1           0.00  2017  01  02  \n",
       "2           0.00  2017  01  03  \n",
       "3           0.00  2017  01  04  \n",
       "4           0.00  2017  01  05  \n",
       "..           ...   ...  ..  ..  \n",
       "360         0.00  2017  12  27  \n",
       "361         0.00  2017  12  28  \n",
       "362         0.00  2017  12  29  \n",
       "363         0.00  2017  12  30  \n",
       "364         1.25  2017  12  31  \n",
       "\n",
       "[365 rows x 15 columns]"
      ]
     },
     "execution_count": 12,
     "metadata": {},
     "output_type": "execute_result"
    }
   ],
   "source": [
    "날씨2017"
   ]
  },
  {
   "cell_type": "code",
   "execution_count": 13,
   "metadata": {},
   "outputs": [
    {
     "name": "stderr",
     "output_type": "stream",
     "text": [
      "/opt/app-root/lib/python3.6/site-packages/pandas/core/frame.py:4174: SettingWithCopyWarning: \n",
      "A value is trying to be set on a copy of a slice from a DataFrame\n",
      "\n",
      "See the caveats in the documentation: https://pandas.pydata.org/pandas-docs/stable/user_guide/indexing.html#returning-a-view-versus-a-copy\n",
      "  errors=errors,\n"
     ]
    }
   ],
   "source": [
    "날씨2017.drop('일시' , axis =1,  inplace = True)"
   ]
  },
  {
   "cell_type": "code",
   "execution_count": 14,
   "metadata": {
    "scrolled": true
   },
   "outputs": [
    {
     "data": {
      "text/html": [
       "<div>\n",
       "<style scoped>\n",
       "    .dataframe tbody tr th:only-of-type {\n",
       "        vertical-align: middle;\n",
       "    }\n",
       "\n",
       "    .dataframe tbody tr th {\n",
       "        vertical-align: top;\n",
       "    }\n",
       "\n",
       "    .dataframe thead th {\n",
       "        text-align: right;\n",
       "    }\n",
       "</style>\n",
       "<table border=\"1\" class=\"dataframe\">\n",
       "  <thead>\n",
       "    <tr style=\"text-align: right;\">\n",
       "      <th></th>\n",
       "      <th>평균기온(°C)</th>\n",
       "      <th>최저기온(°C)</th>\n",
       "      <th>최고기온(°C)</th>\n",
       "      <th>일강수량(mm)</th>\n",
       "      <th>최대 풍속(m/s)</th>\n",
       "      <th>최대 풍속 풍향(16방위)</th>\n",
       "      <th>평균 풍속(m/s)</th>\n",
       "      <th>평균 상대습도(%)</th>\n",
       "      <th>일 최심적설(cm)</th>\n",
       "      <th>평균 지면온도(°C)</th>\n",
       "      <th>안개 계속시간(hr)</th>\n",
       "      <th>년도</th>\n",
       "      <th>월</th>\n",
       "      <th>일</th>\n",
       "    </tr>\n",
       "  </thead>\n",
       "  <tbody>\n",
       "    <tr>\n",
       "      <th>0</th>\n",
       "      <td>3.5</td>\n",
       "      <td>-1.3</td>\n",
       "      <td>10.7</td>\n",
       "      <td>0.0</td>\n",
       "      <td>3.1</td>\n",
       "      <td>180</td>\n",
       "      <td>0.7</td>\n",
       "      <td>81.5</td>\n",
       "      <td>0.0</td>\n",
       "      <td>3.3</td>\n",
       "      <td>0.00</td>\n",
       "      <td>2017</td>\n",
       "      <td>01</td>\n",
       "      <td>01</td>\n",
       "    </tr>\n",
       "    <tr>\n",
       "      <th>1</th>\n",
       "      <td>4.7</td>\n",
       "      <td>-0.4</td>\n",
       "      <td>10.8</td>\n",
       "      <td>0.0</td>\n",
       "      <td>5.2</td>\n",
       "      <td>180</td>\n",
       "      <td>1.5</td>\n",
       "      <td>83.0</td>\n",
       "      <td>0.0</td>\n",
       "      <td>3.4</td>\n",
       "      <td>0.00</td>\n",
       "      <td>2017</td>\n",
       "      <td>01</td>\n",
       "      <td>02</td>\n",
       "    </tr>\n",
       "    <tr>\n",
       "      <th>2</th>\n",
       "      <td>3.3</td>\n",
       "      <td>-1.5</td>\n",
       "      <td>9.2</td>\n",
       "      <td>0.0</td>\n",
       "      <td>3.9</td>\n",
       "      <td>180</td>\n",
       "      <td>1.4</td>\n",
       "      <td>77.1</td>\n",
       "      <td>0.0</td>\n",
       "      <td>3.0</td>\n",
       "      <td>0.00</td>\n",
       "      <td>2017</td>\n",
       "      <td>01</td>\n",
       "      <td>03</td>\n",
       "    </tr>\n",
       "    <tr>\n",
       "      <th>3</th>\n",
       "      <td>4.2</td>\n",
       "      <td>-0.2</td>\n",
       "      <td>10.7</td>\n",
       "      <td>0.0</td>\n",
       "      <td>2.4</td>\n",
       "      <td>320</td>\n",
       "      <td>1.0</td>\n",
       "      <td>70.5</td>\n",
       "      <td>0.0</td>\n",
       "      <td>3.1</td>\n",
       "      <td>0.00</td>\n",
       "      <td>2017</td>\n",
       "      <td>01</td>\n",
       "      <td>04</td>\n",
       "    </tr>\n",
       "    <tr>\n",
       "      <th>4</th>\n",
       "      <td>4.3</td>\n",
       "      <td>-0.7</td>\n",
       "      <td>9.3</td>\n",
       "      <td>0.0</td>\n",
       "      <td>5.6</td>\n",
       "      <td>110</td>\n",
       "      <td>1.9</td>\n",
       "      <td>71.3</td>\n",
       "      <td>0.0</td>\n",
       "      <td>2.9</td>\n",
       "      <td>0.00</td>\n",
       "      <td>2017</td>\n",
       "      <td>01</td>\n",
       "      <td>05</td>\n",
       "    </tr>\n",
       "    <tr>\n",
       "      <th>...</th>\n",
       "      <td>...</td>\n",
       "      <td>...</td>\n",
       "      <td>...</td>\n",
       "      <td>...</td>\n",
       "      <td>...</td>\n",
       "      <td>...</td>\n",
       "      <td>...</td>\n",
       "      <td>...</td>\n",
       "      <td>...</td>\n",
       "      <td>...</td>\n",
       "      <td>...</td>\n",
       "      <td>...</td>\n",
       "      <td>...</td>\n",
       "      <td>...</td>\n",
       "    </tr>\n",
       "    <tr>\n",
       "      <th>360</th>\n",
       "      <td>-5.1</td>\n",
       "      <td>-9.0</td>\n",
       "      <td>0.5</td>\n",
       "      <td>0.0</td>\n",
       "      <td>3.8</td>\n",
       "      <td>320</td>\n",
       "      <td>1.5</td>\n",
       "      <td>47.4</td>\n",
       "      <td>0.0</td>\n",
       "      <td>-1.9</td>\n",
       "      <td>0.00</td>\n",
       "      <td>2017</td>\n",
       "      <td>12</td>\n",
       "      <td>27</td>\n",
       "    </tr>\n",
       "    <tr>\n",
       "      <th>361</th>\n",
       "      <td>-1.6</td>\n",
       "      <td>-6.9</td>\n",
       "      <td>3.0</td>\n",
       "      <td>0.0</td>\n",
       "      <td>2.5</td>\n",
       "      <td>340</td>\n",
       "      <td>0.8</td>\n",
       "      <td>57.9</td>\n",
       "      <td>0.0</td>\n",
       "      <td>-0.8</td>\n",
       "      <td>0.00</td>\n",
       "      <td>2017</td>\n",
       "      <td>12</td>\n",
       "      <td>28</td>\n",
       "    </tr>\n",
       "    <tr>\n",
       "      <th>362</th>\n",
       "      <td>2.9</td>\n",
       "      <td>-0.5</td>\n",
       "      <td>6.2</td>\n",
       "      <td>0.0</td>\n",
       "      <td>2.1</td>\n",
       "      <td>200</td>\n",
       "      <td>0.8</td>\n",
       "      <td>78.9</td>\n",
       "      <td>0.0</td>\n",
       "      <td>0.4</td>\n",
       "      <td>0.00</td>\n",
       "      <td>2017</td>\n",
       "      <td>12</td>\n",
       "      <td>29</td>\n",
       "    </tr>\n",
       "    <tr>\n",
       "      <th>363</th>\n",
       "      <td>3.5</td>\n",
       "      <td>0.1</td>\n",
       "      <td>7.6</td>\n",
       "      <td>0.9</td>\n",
       "      <td>2.4</td>\n",
       "      <td>160</td>\n",
       "      <td>0.9</td>\n",
       "      <td>80.8</td>\n",
       "      <td>0.0</td>\n",
       "      <td>1.7</td>\n",
       "      <td>0.00</td>\n",
       "      <td>2017</td>\n",
       "      <td>12</td>\n",
       "      <td>30</td>\n",
       "    </tr>\n",
       "    <tr>\n",
       "      <th>364</th>\n",
       "      <td>1.3</td>\n",
       "      <td>-2.2</td>\n",
       "      <td>5.6</td>\n",
       "      <td>0.5</td>\n",
       "      <td>4.8</td>\n",
       "      <td>320</td>\n",
       "      <td>1.9</td>\n",
       "      <td>65.8</td>\n",
       "      <td>0.0</td>\n",
       "      <td>2.2</td>\n",
       "      <td>1.25</td>\n",
       "      <td>2017</td>\n",
       "      <td>12</td>\n",
       "      <td>31</td>\n",
       "    </tr>\n",
       "  </tbody>\n",
       "</table>\n",
       "<p>365 rows × 14 columns</p>\n",
       "</div>"
      ],
      "text/plain": [
       "     평균기온(°C)  최저기온(°C)  최고기온(°C)  일강수량(mm)  최대 풍속(m/s)  최대 풍속 풍향(16방위)  \\\n",
       "0         3.5      -1.3      10.7       0.0         3.1             180   \n",
       "1         4.7      -0.4      10.8       0.0         5.2             180   \n",
       "2         3.3      -1.5       9.2       0.0         3.9             180   \n",
       "3         4.2      -0.2      10.7       0.0         2.4             320   \n",
       "4         4.3      -0.7       9.3       0.0         5.6             110   \n",
       "..        ...       ...       ...       ...         ...             ...   \n",
       "360      -5.1      -9.0       0.5       0.0         3.8             320   \n",
       "361      -1.6      -6.9       3.0       0.0         2.5             340   \n",
       "362       2.9      -0.5       6.2       0.0         2.1             200   \n",
       "363       3.5       0.1       7.6       0.9         2.4             160   \n",
       "364       1.3      -2.2       5.6       0.5         4.8             320   \n",
       "\n",
       "     평균 풍속(m/s)  평균 상대습도(%)  일 최심적설(cm)  평균 지면온도(°C)  안개 계속시간(hr)    년도   월  \\\n",
       "0           0.7        81.5         0.0          3.3         0.00  2017  01   \n",
       "1           1.5        83.0         0.0          3.4         0.00  2017  01   \n",
       "2           1.4        77.1         0.0          3.0         0.00  2017  01   \n",
       "3           1.0        70.5         0.0          3.1         0.00  2017  01   \n",
       "4           1.9        71.3         0.0          2.9         0.00  2017  01   \n",
       "..          ...         ...         ...          ...          ...   ...  ..   \n",
       "360         1.5        47.4         0.0         -1.9         0.00  2017  12   \n",
       "361         0.8        57.9         0.0         -0.8         0.00  2017  12   \n",
       "362         0.8        78.9         0.0          0.4         0.00  2017  12   \n",
       "363         0.9        80.8         0.0          1.7         0.00  2017  12   \n",
       "364         1.9        65.8         0.0          2.2         1.25  2017  12   \n",
       "\n",
       "      일  \n",
       "0    01  \n",
       "1    02  \n",
       "2    03  \n",
       "3    04  \n",
       "4    05  \n",
       "..   ..  \n",
       "360  27  \n",
       "361  28  \n",
       "362  29  \n",
       "363  30  \n",
       "364  31  \n",
       "\n",
       "[365 rows x 14 columns]"
      ]
     },
     "execution_count": 14,
     "metadata": {},
     "output_type": "execute_result"
    }
   ],
   "source": [
    "날씨2017"
   ]
  },
  {
   "cell_type": "code",
   "execution_count": 15,
   "metadata": {
    "scrolled": true
   },
   "outputs": [],
   "source": [
    "data2017 = gpd.read_file('2017data.geojson')\n",
    "data2018 = gpd.read_file('2018data.geojson')\n",
    "data2019 = gpd.read_file('2019data.geojson')"
   ]
  },
  {
   "cell_type": "code",
   "execution_count": 16,
   "metadata": {},
   "outputs": [
    {
     "data": {
      "text/html": [
       "<div>\n",
       "<style scoped>\n",
       "    .dataframe tbody tr th:only-of-type {\n",
       "        vertical-align: middle;\n",
       "    }\n",
       "\n",
       "    .dataframe tbody tr th {\n",
       "        vertical-align: top;\n",
       "    }\n",
       "\n",
       "    .dataframe thead th {\n",
       "        text-align: right;\n",
       "    }\n",
       "</style>\n",
       "<table border=\"1\" class=\"dataframe\">\n",
       "  <thead>\n",
       "    <tr style=\"text-align: right;\">\n",
       "      <th></th>\n",
       "      <th>gid</th>\n",
       "      <th>acci_cnt</th>\n",
       "      <th>최소위도</th>\n",
       "      <th>최대위도</th>\n",
       "      <th>최소경도</th>\n",
       "      <th>최대경도</th>\n",
       "      <th>사고경우</th>\n",
       "      <th>평균위도_Lat</th>\n",
       "      <th>평균경도_Lon</th>\n",
       "      <th>보행_신호등갯수</th>\n",
       "      <th>...</th>\n",
       "      <th>동</th>\n",
       "      <th>년도</th>\n",
       "      <th>월</th>\n",
       "      <th>일</th>\n",
       "      <th>총인구</th>\n",
       "      <th>고령자인구</th>\n",
       "      <th>생산가능인구</th>\n",
       "      <th>유소년인구</th>\n",
       "      <th>등록차량</th>\n",
       "      <th>geometry</th>\n",
       "    </tr>\n",
       "  </thead>\n",
       "  <tbody>\n",
       "    <tr>\n",
       "      <th>0</th>\n",
       "      <td>다바931203</td>\n",
       "      <td>2</td>\n",
       "      <td>36.380135</td>\n",
       "      <td>36.381037</td>\n",
       "      <td>127.423070</td>\n",
       "      <td>127.424186</td>\n",
       "      <td>1</td>\n",
       "      <td>36.380586</td>\n",
       "      <td>127.423628</td>\n",
       "      <td>1</td>\n",
       "      <td>...</td>\n",
       "      <td>읍내동</td>\n",
       "      <td>2017</td>\n",
       "      <td>07</td>\n",
       "      <td>07</td>\n",
       "      <td>0.0</td>\n",
       "      <td>0.0</td>\n",
       "      <td>0.0</td>\n",
       "      <td>0.0</td>\n",
       "      <td>409</td>\n",
       "      <td>MULTIPOLYGON (((127.42307 36.38013, 127.42307 ...</td>\n",
       "    </tr>\n",
       "    <tr>\n",
       "      <th>1</th>\n",
       "      <td>다바931203</td>\n",
       "      <td>2</td>\n",
       "      <td>36.380135</td>\n",
       "      <td>36.381037</td>\n",
       "      <td>127.423070</td>\n",
       "      <td>127.424186</td>\n",
       "      <td>1</td>\n",
       "      <td>36.380586</td>\n",
       "      <td>127.423628</td>\n",
       "      <td>1</td>\n",
       "      <td>...</td>\n",
       "      <td>읍내동</td>\n",
       "      <td>2017</td>\n",
       "      <td>12</td>\n",
       "      <td>06</td>\n",
       "      <td>0.0</td>\n",
       "      <td>0.0</td>\n",
       "      <td>0.0</td>\n",
       "      <td>0.0</td>\n",
       "      <td>409</td>\n",
       "      <td>MULTIPOLYGON (((127.42307 36.38013, 127.42307 ...</td>\n",
       "    </tr>\n",
       "    <tr>\n",
       "      <th>2</th>\n",
       "      <td>다바852177</td>\n",
       "      <td>1</td>\n",
       "      <td>36.356605</td>\n",
       "      <td>36.357509</td>\n",
       "      <td>127.335041</td>\n",
       "      <td>127.336157</td>\n",
       "      <td>1</td>\n",
       "      <td>36.357057</td>\n",
       "      <td>127.335599</td>\n",
       "      <td>0</td>\n",
       "      <td>...</td>\n",
       "      <td>장대동</td>\n",
       "      <td>2017</td>\n",
       "      <td>02</td>\n",
       "      <td>13</td>\n",
       "      <td>133.0</td>\n",
       "      <td>32.0</td>\n",
       "      <td>93.0</td>\n",
       "      <td>8.0</td>\n",
       "      <td>64</td>\n",
       "      <td>MULTIPOLYGON (((127.33504 36.35661, 127.33504 ...</td>\n",
       "    </tr>\n",
       "    <tr>\n",
       "      <th>3</th>\n",
       "      <td>다바935173</td>\n",
       "      <td>3</td>\n",
       "      <td>36.353091</td>\n",
       "      <td>36.353993</td>\n",
       "      <td>127.427555</td>\n",
       "      <td>127.428670</td>\n",
       "      <td>1</td>\n",
       "      <td>36.353542</td>\n",
       "      <td>127.428113</td>\n",
       "      <td>0</td>\n",
       "      <td>...</td>\n",
       "      <td>정동</td>\n",
       "      <td>2017</td>\n",
       "      <td>06</td>\n",
       "      <td>06</td>\n",
       "      <td>692.0</td>\n",
       "      <td>103.0</td>\n",
       "      <td>502.0</td>\n",
       "      <td>87.0</td>\n",
       "      <td>12</td>\n",
       "      <td>MULTIPOLYGON (((127.42756 36.35309, 127.42755 ...</td>\n",
       "    </tr>\n",
       "    <tr>\n",
       "      <th>4</th>\n",
       "      <td>다바935173</td>\n",
       "      <td>3</td>\n",
       "      <td>36.353091</td>\n",
       "      <td>36.353993</td>\n",
       "      <td>127.427555</td>\n",
       "      <td>127.428670</td>\n",
       "      <td>1</td>\n",
       "      <td>36.353542</td>\n",
       "      <td>127.428113</td>\n",
       "      <td>0</td>\n",
       "      <td>...</td>\n",
       "      <td>용전동</td>\n",
       "      <td>2017</td>\n",
       "      <td>11</td>\n",
       "      <td>27</td>\n",
       "      <td>692.0</td>\n",
       "      <td>103.0</td>\n",
       "      <td>502.0</td>\n",
       "      <td>87.0</td>\n",
       "      <td>12</td>\n",
       "      <td>MULTIPOLYGON (((127.42756 36.35309, 127.42755 ...</td>\n",
       "    </tr>\n",
       "    <tr>\n",
       "      <th>...</th>\n",
       "      <td>...</td>\n",
       "      <td>...</td>\n",
       "      <td>...</td>\n",
       "      <td>...</td>\n",
       "      <td>...</td>\n",
       "      <td>...</td>\n",
       "      <td>...</td>\n",
       "      <td>...</td>\n",
       "      <td>...</td>\n",
       "      <td>...</td>\n",
       "      <td>...</td>\n",
       "      <td>...</td>\n",
       "      <td>...</td>\n",
       "      <td>...</td>\n",
       "      <td>...</td>\n",
       "      <td>...</td>\n",
       "      <td>...</td>\n",
       "      <td>...</td>\n",
       "      <td>...</td>\n",
       "      <td>...</td>\n",
       "      <td>...</td>\n",
       "    </tr>\n",
       "    <tr>\n",
       "      <th>7754</th>\n",
       "      <td>다바866124</td>\n",
       "      <td>10</td>\n",
       "      <td>36.308844</td>\n",
       "      <td>36.309747</td>\n",
       "      <td>127.350736</td>\n",
       "      <td>127.351852</td>\n",
       "      <td>1</td>\n",
       "      <td>36.309296</td>\n",
       "      <td>127.351294</td>\n",
       "      <td>5</td>\n",
       "      <td>...</td>\n",
       "      <td>원동</td>\n",
       "      <td>2017</td>\n",
       "      <td>05</td>\n",
       "      <td>12</td>\n",
       "      <td>0.0</td>\n",
       "      <td>0.0</td>\n",
       "      <td>0.0</td>\n",
       "      <td>0.0</td>\n",
       "      <td>0</td>\n",
       "      <td>MULTIPOLYGON (((127.35074 36.30884, 127.35074 ...</td>\n",
       "    </tr>\n",
       "    <tr>\n",
       "      <th>7755</th>\n",
       "      <td>다바866124</td>\n",
       "      <td>10</td>\n",
       "      <td>36.308844</td>\n",
       "      <td>36.309747</td>\n",
       "      <td>127.350736</td>\n",
       "      <td>127.351852</td>\n",
       "      <td>1</td>\n",
       "      <td>36.309296</td>\n",
       "      <td>127.351294</td>\n",
       "      <td>5</td>\n",
       "      <td>...</td>\n",
       "      <td>원동</td>\n",
       "      <td>2017</td>\n",
       "      <td>08</td>\n",
       "      <td>06</td>\n",
       "      <td>0.0</td>\n",
       "      <td>0.0</td>\n",
       "      <td>0.0</td>\n",
       "      <td>0.0</td>\n",
       "      <td>0</td>\n",
       "      <td>MULTIPOLYGON (((127.35074 36.30884, 127.35074 ...</td>\n",
       "    </tr>\n",
       "    <tr>\n",
       "      <th>7756</th>\n",
       "      <td>다바866124</td>\n",
       "      <td>10</td>\n",
       "      <td>36.308844</td>\n",
       "      <td>36.309747</td>\n",
       "      <td>127.350736</td>\n",
       "      <td>127.351852</td>\n",
       "      <td>1</td>\n",
       "      <td>36.309296</td>\n",
       "      <td>127.351294</td>\n",
       "      <td>5</td>\n",
       "      <td>...</td>\n",
       "      <td>원동</td>\n",
       "      <td>2017</td>\n",
       "      <td>09</td>\n",
       "      <td>18</td>\n",
       "      <td>0.0</td>\n",
       "      <td>0.0</td>\n",
       "      <td>0.0</td>\n",
       "      <td>0.0</td>\n",
       "      <td>0</td>\n",
       "      <td>MULTIPOLYGON (((127.35074 36.30884, 127.35074 ...</td>\n",
       "    </tr>\n",
       "    <tr>\n",
       "      <th>7757</th>\n",
       "      <td>다바866124</td>\n",
       "      <td>10</td>\n",
       "      <td>36.308844</td>\n",
       "      <td>36.309747</td>\n",
       "      <td>127.350736</td>\n",
       "      <td>127.351852</td>\n",
       "      <td>1</td>\n",
       "      <td>36.309296</td>\n",
       "      <td>127.351294</td>\n",
       "      <td>5</td>\n",
       "      <td>...</td>\n",
       "      <td>원동</td>\n",
       "      <td>2017</td>\n",
       "      <td>12</td>\n",
       "      <td>30</td>\n",
       "      <td>0.0</td>\n",
       "      <td>0.0</td>\n",
       "      <td>0.0</td>\n",
       "      <td>0.0</td>\n",
       "      <td>0</td>\n",
       "      <td>MULTIPOLYGON (((127.35074 36.30884, 127.35074 ...</td>\n",
       "    </tr>\n",
       "    <tr>\n",
       "      <th>7758</th>\n",
       "      <td>다바911108</td>\n",
       "      <td>1</td>\n",
       "      <td>36.294472</td>\n",
       "      <td>36.295374</td>\n",
       "      <td>127.400880</td>\n",
       "      <td>127.401995</td>\n",
       "      <td>1</td>\n",
       "      <td>36.294923</td>\n",
       "      <td>127.401438</td>\n",
       "      <td>0</td>\n",
       "      <td>...</td>\n",
       "      <td>정동</td>\n",
       "      <td>2017</td>\n",
       "      <td>05</td>\n",
       "      <td>14</td>\n",
       "      <td>0.0</td>\n",
       "      <td>0.0</td>\n",
       "      <td>0.0</td>\n",
       "      <td>0.0</td>\n",
       "      <td>0</td>\n",
       "      <td>MULTIPOLYGON (((127.40088 36.29447, 127.40088 ...</td>\n",
       "    </tr>\n",
       "  </tbody>\n",
       "</table>\n",
       "<p>7759 rows × 37 columns</p>\n",
       "</div>"
      ],
      "text/plain": [
       "           gid  acci_cnt       최소위도       최대위도        최소경도        최대경도  사고경우  \\\n",
       "0     다바931203         2  36.380135  36.381037  127.423070  127.424186     1   \n",
       "1     다바931203         2  36.380135  36.381037  127.423070  127.424186     1   \n",
       "2     다바852177         1  36.356605  36.357509  127.335041  127.336157     1   \n",
       "3     다바935173         3  36.353091  36.353993  127.427555  127.428670     1   \n",
       "4     다바935173         3  36.353091  36.353993  127.427555  127.428670     1   \n",
       "...        ...       ...        ...        ...         ...         ...   ...   \n",
       "7754  다바866124        10  36.308844  36.309747  127.350736  127.351852     1   \n",
       "7755  다바866124        10  36.308844  36.309747  127.350736  127.351852     1   \n",
       "7756  다바866124        10  36.308844  36.309747  127.350736  127.351852     1   \n",
       "7757  다바866124        10  36.308844  36.309747  127.350736  127.351852     1   \n",
       "7758  다바911108         1  36.294472  36.295374  127.400880  127.401995     1   \n",
       "\n",
       "       평균위도_Lat    평균경도_Lon  보행_신호등갯수  ...    동    년도   월   일    총인구  고령자인구  \\\n",
       "0     36.380586  127.423628         1  ...  읍내동  2017  07  07    0.0    0.0   \n",
       "1     36.380586  127.423628         1  ...  읍내동  2017  12  06    0.0    0.0   \n",
       "2     36.357057  127.335599         0  ...  장대동  2017  02  13  133.0   32.0   \n",
       "3     36.353542  127.428113         0  ...   정동  2017  06  06  692.0  103.0   \n",
       "4     36.353542  127.428113         0  ...  용전동  2017  11  27  692.0  103.0   \n",
       "...         ...         ...       ...  ...  ...   ...  ..  ..    ...    ...   \n",
       "7754  36.309296  127.351294         5  ...   원동  2017  05  12    0.0    0.0   \n",
       "7755  36.309296  127.351294         5  ...   원동  2017  08  06    0.0    0.0   \n",
       "7756  36.309296  127.351294         5  ...   원동  2017  09  18    0.0    0.0   \n",
       "7757  36.309296  127.351294         5  ...   원동  2017  12  30    0.0    0.0   \n",
       "7758  36.294923  127.401438         0  ...   정동  2017  05  14    0.0    0.0   \n",
       "\n",
       "      생산가능인구 유소년인구 등록차량                                           geometry  \n",
       "0        0.0   0.0  409  MULTIPOLYGON (((127.42307 36.38013, 127.42307 ...  \n",
       "1        0.0   0.0  409  MULTIPOLYGON (((127.42307 36.38013, 127.42307 ...  \n",
       "2       93.0   8.0   64  MULTIPOLYGON (((127.33504 36.35661, 127.33504 ...  \n",
       "3      502.0  87.0   12  MULTIPOLYGON (((127.42756 36.35309, 127.42755 ...  \n",
       "4      502.0  87.0   12  MULTIPOLYGON (((127.42756 36.35309, 127.42755 ...  \n",
       "...      ...   ...  ...                                                ...  \n",
       "7754     0.0   0.0    0  MULTIPOLYGON (((127.35074 36.30884, 127.35074 ...  \n",
       "7755     0.0   0.0    0  MULTIPOLYGON (((127.35074 36.30884, 127.35074 ...  \n",
       "7756     0.0   0.0    0  MULTIPOLYGON (((127.35074 36.30884, 127.35074 ...  \n",
       "7757     0.0   0.0    0  MULTIPOLYGON (((127.35074 36.30884, 127.35074 ...  \n",
       "7758     0.0   0.0    0  MULTIPOLYGON (((127.40088 36.29447, 127.40088 ...  \n",
       "\n",
       "[7759 rows x 37 columns]"
      ]
     },
     "execution_count": 16,
     "metadata": {},
     "output_type": "execute_result"
    }
   ],
   "source": [
    "data2017"
   ]
  },
  {
   "cell_type": "code",
   "execution_count": 47,
   "metadata": {},
   "outputs": [
    {
     "ename": "KeyError",
     "evalue": "\"['사고경우'] not found in axis\"",
     "output_type": "error",
     "traceback": [
      "\u001b[0;31m---------------------------------------------------------------------------\u001b[0m",
      "\u001b[0;31mKeyError\u001b[0m                                  Traceback (most recent call last)",
      "\u001b[0;32m<ipython-input-47-5d23a40c5b43>\u001b[0m in \u001b[0;36m<module>\u001b[0;34m\u001b[0m\n\u001b[0;32m----> 1\u001b[0;31m \u001b[0mdata2017\u001b[0m\u001b[0;34m.\u001b[0m\u001b[0mdrop\u001b[0m\u001b[0;34m(\u001b[0m\u001b[0;34m'사고경우'\u001b[0m\u001b[0;34m,\u001b[0m \u001b[0maxis\u001b[0m\u001b[0;34m=\u001b[0m\u001b[0;36m1\u001b[0m\u001b[0;34m,\u001b[0m\u001b[0minplace\u001b[0m\u001b[0;34m=\u001b[0m\u001b[0;32mTrue\u001b[0m\u001b[0;34m)\u001b[0m\u001b[0;34m\u001b[0m\u001b[0;34m\u001b[0m\u001b[0m\n\u001b[0m",
      "\u001b[0;32m/opt/app-root/lib/python3.6/site-packages/pandas/core/frame.py\u001b[0m in \u001b[0;36mdrop\u001b[0;34m(self, labels, axis, index, columns, level, inplace, errors)\u001b[0m\n\u001b[1;32m   4172\u001b[0m             \u001b[0mlevel\u001b[0m\u001b[0;34m=\u001b[0m\u001b[0mlevel\u001b[0m\u001b[0;34m,\u001b[0m\u001b[0;34m\u001b[0m\u001b[0;34m\u001b[0m\u001b[0m\n\u001b[1;32m   4173\u001b[0m             \u001b[0minplace\u001b[0m\u001b[0;34m=\u001b[0m\u001b[0minplace\u001b[0m\u001b[0;34m,\u001b[0m\u001b[0;34m\u001b[0m\u001b[0;34m\u001b[0m\u001b[0m\n\u001b[0;32m-> 4174\u001b[0;31m             \u001b[0merrors\u001b[0m\u001b[0;34m=\u001b[0m\u001b[0merrors\u001b[0m\u001b[0;34m,\u001b[0m\u001b[0;34m\u001b[0m\u001b[0;34m\u001b[0m\u001b[0m\n\u001b[0m\u001b[1;32m   4175\u001b[0m         )\n\u001b[1;32m   4176\u001b[0m \u001b[0;34m\u001b[0m\u001b[0m\n",
      "\u001b[0;32m/opt/app-root/lib/python3.6/site-packages/pandas/core/generic.py\u001b[0m in \u001b[0;36mdrop\u001b[0;34m(self, labels, axis, index, columns, level, inplace, errors)\u001b[0m\n\u001b[1;32m   3887\u001b[0m         \u001b[0;32mfor\u001b[0m \u001b[0maxis\u001b[0m\u001b[0;34m,\u001b[0m \u001b[0mlabels\u001b[0m \u001b[0;32min\u001b[0m \u001b[0maxes\u001b[0m\u001b[0;34m.\u001b[0m\u001b[0mitems\u001b[0m\u001b[0;34m(\u001b[0m\u001b[0;34m)\u001b[0m\u001b[0;34m:\u001b[0m\u001b[0;34m\u001b[0m\u001b[0;34m\u001b[0m\u001b[0m\n\u001b[1;32m   3888\u001b[0m             \u001b[0;32mif\u001b[0m \u001b[0mlabels\u001b[0m \u001b[0;32mis\u001b[0m \u001b[0;32mnot\u001b[0m \u001b[0;32mNone\u001b[0m\u001b[0;34m:\u001b[0m\u001b[0;34m\u001b[0m\u001b[0;34m\u001b[0m\u001b[0m\n\u001b[0;32m-> 3889\u001b[0;31m                 \u001b[0mobj\u001b[0m \u001b[0;34m=\u001b[0m \u001b[0mobj\u001b[0m\u001b[0;34m.\u001b[0m\u001b[0m_drop_axis\u001b[0m\u001b[0;34m(\u001b[0m\u001b[0mlabels\u001b[0m\u001b[0;34m,\u001b[0m \u001b[0maxis\u001b[0m\u001b[0;34m,\u001b[0m \u001b[0mlevel\u001b[0m\u001b[0;34m=\u001b[0m\u001b[0mlevel\u001b[0m\u001b[0;34m,\u001b[0m \u001b[0merrors\u001b[0m\u001b[0;34m=\u001b[0m\u001b[0merrors\u001b[0m\u001b[0;34m)\u001b[0m\u001b[0;34m\u001b[0m\u001b[0;34m\u001b[0m\u001b[0m\n\u001b[0m\u001b[1;32m   3890\u001b[0m \u001b[0;34m\u001b[0m\u001b[0m\n\u001b[1;32m   3891\u001b[0m         \u001b[0;32mif\u001b[0m \u001b[0minplace\u001b[0m\u001b[0;34m:\u001b[0m\u001b[0;34m\u001b[0m\u001b[0;34m\u001b[0m\u001b[0m\n",
      "\u001b[0;32m/opt/app-root/lib/python3.6/site-packages/pandas/core/generic.py\u001b[0m in \u001b[0;36m_drop_axis\u001b[0;34m(self, labels, axis, level, errors)\u001b[0m\n\u001b[1;32m   3921\u001b[0m                 \u001b[0mnew_axis\u001b[0m \u001b[0;34m=\u001b[0m \u001b[0maxis\u001b[0m\u001b[0;34m.\u001b[0m\u001b[0mdrop\u001b[0m\u001b[0;34m(\u001b[0m\u001b[0mlabels\u001b[0m\u001b[0;34m,\u001b[0m \u001b[0mlevel\u001b[0m\u001b[0;34m=\u001b[0m\u001b[0mlevel\u001b[0m\u001b[0;34m,\u001b[0m \u001b[0merrors\u001b[0m\u001b[0;34m=\u001b[0m\u001b[0merrors\u001b[0m\u001b[0;34m)\u001b[0m\u001b[0;34m\u001b[0m\u001b[0;34m\u001b[0m\u001b[0m\n\u001b[1;32m   3922\u001b[0m             \u001b[0;32melse\u001b[0m\u001b[0;34m:\u001b[0m\u001b[0;34m\u001b[0m\u001b[0;34m\u001b[0m\u001b[0m\n\u001b[0;32m-> 3923\u001b[0;31m                 \u001b[0mnew_axis\u001b[0m \u001b[0;34m=\u001b[0m \u001b[0maxis\u001b[0m\u001b[0;34m.\u001b[0m\u001b[0mdrop\u001b[0m\u001b[0;34m(\u001b[0m\u001b[0mlabels\u001b[0m\u001b[0;34m,\u001b[0m \u001b[0merrors\u001b[0m\u001b[0;34m=\u001b[0m\u001b[0merrors\u001b[0m\u001b[0;34m)\u001b[0m\u001b[0;34m\u001b[0m\u001b[0;34m\u001b[0m\u001b[0m\n\u001b[0m\u001b[1;32m   3924\u001b[0m             \u001b[0mresult\u001b[0m \u001b[0;34m=\u001b[0m \u001b[0mself\u001b[0m\u001b[0;34m.\u001b[0m\u001b[0mreindex\u001b[0m\u001b[0;34m(\u001b[0m\u001b[0;34m**\u001b[0m\u001b[0;34m{\u001b[0m\u001b[0maxis_name\u001b[0m\u001b[0;34m:\u001b[0m \u001b[0mnew_axis\u001b[0m\u001b[0;34m}\u001b[0m\u001b[0;34m)\u001b[0m\u001b[0;34m\u001b[0m\u001b[0;34m\u001b[0m\u001b[0m\n\u001b[1;32m   3925\u001b[0m \u001b[0;34m\u001b[0m\u001b[0m\n",
      "\u001b[0;32m/opt/app-root/lib/python3.6/site-packages/pandas/core/indexes/base.py\u001b[0m in \u001b[0;36mdrop\u001b[0;34m(self, labels, errors)\u001b[0m\n\u001b[1;32m   5285\u001b[0m         \u001b[0;32mif\u001b[0m \u001b[0mmask\u001b[0m\u001b[0;34m.\u001b[0m\u001b[0many\u001b[0m\u001b[0;34m(\u001b[0m\u001b[0;34m)\u001b[0m\u001b[0;34m:\u001b[0m\u001b[0;34m\u001b[0m\u001b[0;34m\u001b[0m\u001b[0m\n\u001b[1;32m   5286\u001b[0m             \u001b[0;32mif\u001b[0m \u001b[0merrors\u001b[0m \u001b[0;34m!=\u001b[0m \u001b[0;34m\"ignore\"\u001b[0m\u001b[0;34m:\u001b[0m\u001b[0;34m\u001b[0m\u001b[0;34m\u001b[0m\u001b[0m\n\u001b[0;32m-> 5287\u001b[0;31m                 \u001b[0;32mraise\u001b[0m \u001b[0mKeyError\u001b[0m\u001b[0;34m(\u001b[0m\u001b[0;34mf\"{labels[mask]} not found in axis\"\u001b[0m\u001b[0;34m)\u001b[0m\u001b[0;34m\u001b[0m\u001b[0;34m\u001b[0m\u001b[0m\n\u001b[0m\u001b[1;32m   5288\u001b[0m             \u001b[0mindexer\u001b[0m \u001b[0;34m=\u001b[0m \u001b[0mindexer\u001b[0m\u001b[0;34m[\u001b[0m\u001b[0;34m~\u001b[0m\u001b[0mmask\u001b[0m\u001b[0;34m]\u001b[0m\u001b[0;34m\u001b[0m\u001b[0;34m\u001b[0m\u001b[0m\n\u001b[1;32m   5289\u001b[0m         \u001b[0;32mreturn\u001b[0m \u001b[0mself\u001b[0m\u001b[0;34m.\u001b[0m\u001b[0mdelete\u001b[0m\u001b[0;34m(\u001b[0m\u001b[0mindexer\u001b[0m\u001b[0;34m)\u001b[0m\u001b[0;34m\u001b[0m\u001b[0;34m\u001b[0m\u001b[0m\n",
      "\u001b[0;31mKeyError\u001b[0m: \"['사고경우'] not found in axis\""
     ]
    }
   ],
   "source": [
    "data2017.drop('사고경우', axis=1,inplace=True)"
   ]
  },
  {
   "cell_type": "code",
   "execution_count": 51,
   "metadata": {},
   "outputs": [
    {
     "data": {
      "text/plain": [
       "Index(['gid', 'acci_cnt', '최소위도', '최대위도', '최소경도', '최대경도', '평균위도_Lat',\n",
       "       '평균경도_Lon', '보행_신호등갯수', '차량_신호등갯수', '연면적', 'CCTV갯수', '교통안전표시', '안전지대',\n",
       "       '횡단보도', '정차금지지대', '일시', '사고유형', '사고내용', '사망자수', '중상자수', '부상신고자수',\n",
       "       '경상자수', '가해운전자 연령대', '가해운전자 성별', '구', '동', '년도', '월', '일', '총인구',\n",
       "       '고령자인구', '생산가능인구', '유소년인구', '등록차량', 'geometry'],\n",
       "      dtype='object')"
      ]
     },
     "execution_count": 51,
     "metadata": {},
     "output_type": "execute_result"
    }
   ],
   "source": [
    "data2017.columns"
   ]
  },
  {
   "cell_type": "code",
   "execution_count": 17,
   "metadata": {
    "scrolled": true
   },
   "outputs": [
    {
     "data": {
      "text/plain": [
       "Index(['평균기온(°C)', '최저기온(°C)', '최고기온(°C)', '일강수량(mm)', '최대 풍속(m/s)',\n",
       "       '최대 풍속 풍향(16방위)', '평균 풍속(m/s)', '평균 상대습도(%)', '일 최심적설(cm)',\n",
       "       '평균 지면온도(°C)', '안개 계속시간(hr)', '년도', '월', '일'],\n",
       "      dtype='object')"
      ]
     },
     "execution_count": 17,
     "metadata": {},
     "output_type": "execute_result"
    }
   ],
   "source": [
    "날씨2017.columns"
   ]
  },
  {
   "cell_type": "code",
   "execution_count": 52,
   "metadata": {},
   "outputs": [],
   "source": [
    "a = 날씨2017.merge(data2017,how = 'left' , on = ['년도','월','일'])\n",
    "b = 날씨2018.merge(data2018,how = 'left' , on = ['년도','월','일'])\n",
    "c = 날씨2019.merge(data2019,how = 'left' , on = ['년도','월','일'])"
   ]
  },
  {
   "cell_type": "code",
   "execution_count": 53,
   "metadata": {},
   "outputs": [],
   "source": [
    "corr = a.corr()\n",
    "a = corr['acci_cnt'].sort_values(ascending = False).reset_index()"
   ]
  },
  {
   "cell_type": "code",
   "execution_count": 54,
   "metadata": {},
   "outputs": [
    {
     "data": {
      "text/html": [
       "<div>\n",
       "<style scoped>\n",
       "    .dataframe tbody tr th:only-of-type {\n",
       "        vertical-align: middle;\n",
       "    }\n",
       "\n",
       "    .dataframe tbody tr th {\n",
       "        vertical-align: top;\n",
       "    }\n",
       "\n",
       "    .dataframe thead th {\n",
       "        text-align: right;\n",
       "    }\n",
       "</style>\n",
       "<table border=\"1\" class=\"dataframe\">\n",
       "  <thead>\n",
       "    <tr style=\"text-align: right;\">\n",
       "      <th></th>\n",
       "      <th>index</th>\n",
       "      <th>acci_cnt</th>\n",
       "    </tr>\n",
       "  </thead>\n",
       "  <tbody>\n",
       "    <tr>\n",
       "      <th>0</th>\n",
       "      <td>acci_cnt</td>\n",
       "      <td>1.000000</td>\n",
       "    </tr>\n",
       "    <tr>\n",
       "      <th>1</th>\n",
       "      <td>차량_신호등갯수</td>\n",
       "      <td>0.556151</td>\n",
       "    </tr>\n",
       "    <tr>\n",
       "      <th>2</th>\n",
       "      <td>교통안전표시</td>\n",
       "      <td>0.550645</td>\n",
       "    </tr>\n",
       "    <tr>\n",
       "      <th>3</th>\n",
       "      <td>보행_신호등갯수</td>\n",
       "      <td>0.454757</td>\n",
       "    </tr>\n",
       "    <tr>\n",
       "      <th>4</th>\n",
       "      <td>횡단보도</td>\n",
       "      <td>0.412550</td>\n",
       "    </tr>\n",
       "    <tr>\n",
       "      <th>5</th>\n",
       "      <td>CCTV갯수</td>\n",
       "      <td>0.388903</td>\n",
       "    </tr>\n",
       "    <tr>\n",
       "      <th>6</th>\n",
       "      <td>안전지대</td>\n",
       "      <td>0.255944</td>\n",
       "    </tr>\n",
       "    <tr>\n",
       "      <th>7</th>\n",
       "      <td>정차금지지대</td>\n",
       "      <td>0.134797</td>\n",
       "    </tr>\n",
       "    <tr>\n",
       "      <th>8</th>\n",
       "      <td>연면적</td>\n",
       "      <td>0.069677</td>\n",
       "    </tr>\n",
       "    <tr>\n",
       "      <th>9</th>\n",
       "      <td>경상자수</td>\n",
       "      <td>0.061603</td>\n",
       "    </tr>\n",
       "    <tr>\n",
       "      <th>10</th>\n",
       "      <td>최대 풍속 풍향(16방위)</td>\n",
       "      <td>0.028552</td>\n",
       "    </tr>\n",
       "    <tr>\n",
       "      <th>11</th>\n",
       "      <td>최대 풍속(m/s)</td>\n",
       "      <td>0.022348</td>\n",
       "    </tr>\n",
       "    <tr>\n",
       "      <th>12</th>\n",
       "      <td>일 최심적설(cm)</td>\n",
       "      <td>0.012873</td>\n",
       "    </tr>\n",
       "    <tr>\n",
       "      <th>13</th>\n",
       "      <td>평균 풍속(m/s)</td>\n",
       "      <td>0.008004</td>\n",
       "    </tr>\n",
       "    <tr>\n",
       "      <th>14</th>\n",
       "      <td>안개 계속시간(hr)</td>\n",
       "      <td>0.001648</td>\n",
       "    </tr>\n",
       "    <tr>\n",
       "      <th>15</th>\n",
       "      <td>평균 상대습도(%)</td>\n",
       "      <td>-0.008792</td>\n",
       "    </tr>\n",
       "    <tr>\n",
       "      <th>16</th>\n",
       "      <td>일강수량(mm)</td>\n",
       "      <td>-0.011230</td>\n",
       "    </tr>\n",
       "    <tr>\n",
       "      <th>17</th>\n",
       "      <td>최대위도</td>\n",
       "      <td>-0.012149</td>\n",
       "    </tr>\n",
       "    <tr>\n",
       "      <th>18</th>\n",
       "      <td>평균위도_Lat</td>\n",
       "      <td>-0.012149</td>\n",
       "    </tr>\n",
       "    <tr>\n",
       "      <th>19</th>\n",
       "      <td>최소위도</td>\n",
       "      <td>-0.012149</td>\n",
       "    </tr>\n",
       "    <tr>\n",
       "      <th>20</th>\n",
       "      <td>중상자수</td>\n",
       "      <td>-0.014701</td>\n",
       "    </tr>\n",
       "    <tr>\n",
       "      <th>21</th>\n",
       "      <td>최고기온(°C)</td>\n",
       "      <td>-0.022446</td>\n",
       "    </tr>\n",
       "    <tr>\n",
       "      <th>22</th>\n",
       "      <td>부상신고자수</td>\n",
       "      <td>-0.022738</td>\n",
       "    </tr>\n",
       "    <tr>\n",
       "      <th>23</th>\n",
       "      <td>최저기온(°C)</td>\n",
       "      <td>-0.022817</td>\n",
       "    </tr>\n",
       "    <tr>\n",
       "      <th>24</th>\n",
       "      <td>평균 지면온도(°C)</td>\n",
       "      <td>-0.023217</td>\n",
       "    </tr>\n",
       "    <tr>\n",
       "      <th>25</th>\n",
       "      <td>평균기온(°C)</td>\n",
       "      <td>-0.023336</td>\n",
       "    </tr>\n",
       "    <tr>\n",
       "      <th>26</th>\n",
       "      <td>사망자수</td>\n",
       "      <td>-0.038061</td>\n",
       "    </tr>\n",
       "    <tr>\n",
       "      <th>27</th>\n",
       "      <td>최소경도</td>\n",
       "      <td>-0.057589</td>\n",
       "    </tr>\n",
       "    <tr>\n",
       "      <th>28</th>\n",
       "      <td>평균경도_Lon</td>\n",
       "      <td>-0.057589</td>\n",
       "    </tr>\n",
       "    <tr>\n",
       "      <th>29</th>\n",
       "      <td>최대경도</td>\n",
       "      <td>-0.057589</td>\n",
       "    </tr>\n",
       "    <tr>\n",
       "      <th>30</th>\n",
       "      <td>등록차량</td>\n",
       "      <td>-0.073496</td>\n",
       "    </tr>\n",
       "    <tr>\n",
       "      <th>31</th>\n",
       "      <td>유소년인구</td>\n",
       "      <td>-0.168345</td>\n",
       "    </tr>\n",
       "    <tr>\n",
       "      <th>32</th>\n",
       "      <td>고령자인구</td>\n",
       "      <td>-0.181065</td>\n",
       "    </tr>\n",
       "    <tr>\n",
       "      <th>33</th>\n",
       "      <td>생산가능인구</td>\n",
       "      <td>-0.195190</td>\n",
       "    </tr>\n",
       "    <tr>\n",
       "      <th>34</th>\n",
       "      <td>총인구</td>\n",
       "      <td>-0.198328</td>\n",
       "    </tr>\n",
       "  </tbody>\n",
       "</table>\n",
       "</div>"
      ],
      "text/plain": [
       "             index  acci_cnt\n",
       "0         acci_cnt  1.000000\n",
       "1         차량_신호등갯수  0.556151\n",
       "2           교통안전표시  0.550645\n",
       "3         보행_신호등갯수  0.454757\n",
       "4             횡단보도  0.412550\n",
       "5           CCTV갯수  0.388903\n",
       "6             안전지대  0.255944\n",
       "7           정차금지지대  0.134797\n",
       "8              연면적  0.069677\n",
       "9             경상자수  0.061603\n",
       "10  최대 풍속 풍향(16방위)  0.028552\n",
       "11      최대 풍속(m/s)  0.022348\n",
       "12      일 최심적설(cm)  0.012873\n",
       "13      평균 풍속(m/s)  0.008004\n",
       "14     안개 계속시간(hr)  0.001648\n",
       "15      평균 상대습도(%) -0.008792\n",
       "16        일강수량(mm) -0.011230\n",
       "17            최대위도 -0.012149\n",
       "18        평균위도_Lat -0.012149\n",
       "19            최소위도 -0.012149\n",
       "20            중상자수 -0.014701\n",
       "21        최고기온(°C) -0.022446\n",
       "22          부상신고자수 -0.022738\n",
       "23        최저기온(°C) -0.022817\n",
       "24     평균 지면온도(°C) -0.023217\n",
       "25        평균기온(°C) -0.023336\n",
       "26            사망자수 -0.038061\n",
       "27            최소경도 -0.057589\n",
       "28        평균경도_Lon -0.057589\n",
       "29            최대경도 -0.057589\n",
       "30            등록차량 -0.073496\n",
       "31           유소년인구 -0.168345\n",
       "32           고령자인구 -0.181065\n",
       "33          생산가능인구 -0.195190\n",
       "34             총인구 -0.198328"
      ]
     },
     "execution_count": 54,
     "metadata": {},
     "output_type": "execute_result"
    }
   ],
   "source": [
    "a"
   ]
  },
  {
   "cell_type": "code",
   "execution_count": 55,
   "metadata": {},
   "outputs": [],
   "source": [
    "def x(x):\n",
    "    if x < 0 :\n",
    "        return -x\n",
    "    else:\n",
    "        return x"
   ]
  },
  {
   "cell_type": "code",
   "execution_count": 56,
   "metadata": {},
   "outputs": [],
   "source": [
    "a['acci_cnt'] = a['acci_cnt'].apply(x)"
   ]
  },
  {
   "cell_type": "code",
   "execution_count": 57,
   "metadata": {},
   "outputs": [],
   "source": [
    "a.rename(columns = {'index':'변수','acci_cnt':'상관관계'},inplace = True)"
   ]
  },
  {
   "cell_type": "code",
   "execution_count": 58,
   "metadata": {},
   "outputs": [],
   "source": [
    "a.sort_values('상관관계',ascending = False,inplace = True)"
   ]
  },
  {
   "cell_type": "code",
   "execution_count": 59,
   "metadata": {},
   "outputs": [
    {
     "data": {
      "text/html": [
       "<div>\n",
       "<style scoped>\n",
       "    .dataframe tbody tr th:only-of-type {\n",
       "        vertical-align: middle;\n",
       "    }\n",
       "\n",
       "    .dataframe tbody tr th {\n",
       "        vertical-align: top;\n",
       "    }\n",
       "\n",
       "    .dataframe thead th {\n",
       "        text-align: right;\n",
       "    }\n",
       "</style>\n",
       "<table border=\"1\" class=\"dataframe\">\n",
       "  <thead>\n",
       "    <tr style=\"text-align: right;\">\n",
       "      <th></th>\n",
       "      <th>변수</th>\n",
       "      <th>상관관계</th>\n",
       "    </tr>\n",
       "  </thead>\n",
       "  <tbody>\n",
       "    <tr>\n",
       "      <th>0</th>\n",
       "      <td>acci_cnt</td>\n",
       "      <td>1.000000</td>\n",
       "    </tr>\n",
       "    <tr>\n",
       "      <th>1</th>\n",
       "      <td>차량_신호등갯수</td>\n",
       "      <td>0.556151</td>\n",
       "    </tr>\n",
       "    <tr>\n",
       "      <th>2</th>\n",
       "      <td>교통안전표시</td>\n",
       "      <td>0.550645</td>\n",
       "    </tr>\n",
       "    <tr>\n",
       "      <th>3</th>\n",
       "      <td>보행_신호등갯수</td>\n",
       "      <td>0.454757</td>\n",
       "    </tr>\n",
       "    <tr>\n",
       "      <th>4</th>\n",
       "      <td>횡단보도</td>\n",
       "      <td>0.412550</td>\n",
       "    </tr>\n",
       "    <tr>\n",
       "      <th>5</th>\n",
       "      <td>CCTV갯수</td>\n",
       "      <td>0.388903</td>\n",
       "    </tr>\n",
       "    <tr>\n",
       "      <th>6</th>\n",
       "      <td>안전지대</td>\n",
       "      <td>0.255944</td>\n",
       "    </tr>\n",
       "    <tr>\n",
       "      <th>34</th>\n",
       "      <td>총인구</td>\n",
       "      <td>0.198328</td>\n",
       "    </tr>\n",
       "    <tr>\n",
       "      <th>33</th>\n",
       "      <td>생산가능인구</td>\n",
       "      <td>0.195190</td>\n",
       "    </tr>\n",
       "    <tr>\n",
       "      <th>32</th>\n",
       "      <td>고령자인구</td>\n",
       "      <td>0.181065</td>\n",
       "    </tr>\n",
       "    <tr>\n",
       "      <th>31</th>\n",
       "      <td>유소년인구</td>\n",
       "      <td>0.168345</td>\n",
       "    </tr>\n",
       "    <tr>\n",
       "      <th>7</th>\n",
       "      <td>정차금지지대</td>\n",
       "      <td>0.134797</td>\n",
       "    </tr>\n",
       "    <tr>\n",
       "      <th>30</th>\n",
       "      <td>등록차량</td>\n",
       "      <td>0.073496</td>\n",
       "    </tr>\n",
       "    <tr>\n",
       "      <th>8</th>\n",
       "      <td>연면적</td>\n",
       "      <td>0.069677</td>\n",
       "    </tr>\n",
       "    <tr>\n",
       "      <th>9</th>\n",
       "      <td>경상자수</td>\n",
       "      <td>0.061603</td>\n",
       "    </tr>\n",
       "    <tr>\n",
       "      <th>29</th>\n",
       "      <td>최대경도</td>\n",
       "      <td>0.057589</td>\n",
       "    </tr>\n",
       "    <tr>\n",
       "      <th>28</th>\n",
       "      <td>평균경도_Lon</td>\n",
       "      <td>0.057589</td>\n",
       "    </tr>\n",
       "    <tr>\n",
       "      <th>27</th>\n",
       "      <td>최소경도</td>\n",
       "      <td>0.057589</td>\n",
       "    </tr>\n",
       "    <tr>\n",
       "      <th>26</th>\n",
       "      <td>사망자수</td>\n",
       "      <td>0.038061</td>\n",
       "    </tr>\n",
       "    <tr>\n",
       "      <th>10</th>\n",
       "      <td>최대 풍속 풍향(16방위)</td>\n",
       "      <td>0.028552</td>\n",
       "    </tr>\n",
       "    <tr>\n",
       "      <th>25</th>\n",
       "      <td>평균기온(°C)</td>\n",
       "      <td>0.023336</td>\n",
       "    </tr>\n",
       "    <tr>\n",
       "      <th>24</th>\n",
       "      <td>평균 지면온도(°C)</td>\n",
       "      <td>0.023217</td>\n",
       "    </tr>\n",
       "    <tr>\n",
       "      <th>23</th>\n",
       "      <td>최저기온(°C)</td>\n",
       "      <td>0.022817</td>\n",
       "    </tr>\n",
       "    <tr>\n",
       "      <th>22</th>\n",
       "      <td>부상신고자수</td>\n",
       "      <td>0.022738</td>\n",
       "    </tr>\n",
       "    <tr>\n",
       "      <th>21</th>\n",
       "      <td>최고기온(°C)</td>\n",
       "      <td>0.022446</td>\n",
       "    </tr>\n",
       "    <tr>\n",
       "      <th>11</th>\n",
       "      <td>최대 풍속(m/s)</td>\n",
       "      <td>0.022348</td>\n",
       "    </tr>\n",
       "    <tr>\n",
       "      <th>20</th>\n",
       "      <td>중상자수</td>\n",
       "      <td>0.014701</td>\n",
       "    </tr>\n",
       "    <tr>\n",
       "      <th>12</th>\n",
       "      <td>일 최심적설(cm)</td>\n",
       "      <td>0.012873</td>\n",
       "    </tr>\n",
       "    <tr>\n",
       "      <th>19</th>\n",
       "      <td>최소위도</td>\n",
       "      <td>0.012149</td>\n",
       "    </tr>\n",
       "    <tr>\n",
       "      <th>18</th>\n",
       "      <td>평균위도_Lat</td>\n",
       "      <td>0.012149</td>\n",
       "    </tr>\n",
       "    <tr>\n",
       "      <th>17</th>\n",
       "      <td>최대위도</td>\n",
       "      <td>0.012149</td>\n",
       "    </tr>\n",
       "    <tr>\n",
       "      <th>16</th>\n",
       "      <td>일강수량(mm)</td>\n",
       "      <td>0.011230</td>\n",
       "    </tr>\n",
       "    <tr>\n",
       "      <th>15</th>\n",
       "      <td>평균 상대습도(%)</td>\n",
       "      <td>0.008792</td>\n",
       "    </tr>\n",
       "    <tr>\n",
       "      <th>13</th>\n",
       "      <td>평균 풍속(m/s)</td>\n",
       "      <td>0.008004</td>\n",
       "    </tr>\n",
       "    <tr>\n",
       "      <th>14</th>\n",
       "      <td>안개 계속시간(hr)</td>\n",
       "      <td>0.001648</td>\n",
       "    </tr>\n",
       "  </tbody>\n",
       "</table>\n",
       "</div>"
      ],
      "text/plain": [
       "                변수      상관관계\n",
       "0         acci_cnt  1.000000\n",
       "1         차량_신호등갯수  0.556151\n",
       "2           교통안전표시  0.550645\n",
       "3         보행_신호등갯수  0.454757\n",
       "4             횡단보도  0.412550\n",
       "5           CCTV갯수  0.388903\n",
       "6             안전지대  0.255944\n",
       "34             총인구  0.198328\n",
       "33          생산가능인구  0.195190\n",
       "32           고령자인구  0.181065\n",
       "31           유소년인구  0.168345\n",
       "7           정차금지지대  0.134797\n",
       "30            등록차량  0.073496\n",
       "8              연면적  0.069677\n",
       "9             경상자수  0.061603\n",
       "29            최대경도  0.057589\n",
       "28        평균경도_Lon  0.057589\n",
       "27            최소경도  0.057589\n",
       "26            사망자수  0.038061\n",
       "10  최대 풍속 풍향(16방위)  0.028552\n",
       "25        평균기온(°C)  0.023336\n",
       "24     평균 지면온도(°C)  0.023217\n",
       "23        최저기온(°C)  0.022817\n",
       "22          부상신고자수  0.022738\n",
       "21        최고기온(°C)  0.022446\n",
       "11      최대 풍속(m/s)  0.022348\n",
       "20            중상자수  0.014701\n",
       "12      일 최심적설(cm)  0.012873\n",
       "19            최소위도  0.012149\n",
       "18        평균위도_Lat  0.012149\n",
       "17            최대위도  0.012149\n",
       "16        일강수량(mm)  0.011230\n",
       "15      평균 상대습도(%)  0.008792\n",
       "13      평균 풍속(m/s)  0.008004\n",
       "14     안개 계속시간(hr)  0.001648"
      ]
     },
     "execution_count": 59,
     "metadata": {},
     "output_type": "execute_result"
    }
   ],
   "source": [
    "a"
   ]
  },
  {
   "cell_type": "code",
   "execution_count": 60,
   "metadata": {},
   "outputs": [],
   "source": [
    "import plotly.io as pio\n",
    "import plotly.express as px\n",
    "import plotly.graph_objects as go\n",
    "from plotly.subplots import make_subplots"
   ]
  },
  {
   "cell_type": "code",
   "execution_count": 61,
   "metadata": {
    "scrolled": true
   },
   "outputs": [
    {
     "data": {
      "text/html": [
       "<div>\n",
       "<style scoped>\n",
       "    .dataframe tbody tr th:only-of-type {\n",
       "        vertical-align: middle;\n",
       "    }\n",
       "\n",
       "    .dataframe tbody tr th {\n",
       "        vertical-align: top;\n",
       "    }\n",
       "\n",
       "    .dataframe thead th {\n",
       "        text-align: right;\n",
       "    }\n",
       "</style>\n",
       "<table border=\"1\" class=\"dataframe\">\n",
       "  <thead>\n",
       "    <tr style=\"text-align: right;\">\n",
       "      <th></th>\n",
       "      <th>변수</th>\n",
       "      <th>상관관계</th>\n",
       "    </tr>\n",
       "  </thead>\n",
       "  <tbody>\n",
       "    <tr>\n",
       "      <th>0</th>\n",
       "      <td>acci_cnt</td>\n",
       "      <td>1.000000</td>\n",
       "    </tr>\n",
       "    <tr>\n",
       "      <th>1</th>\n",
       "      <td>차량_신호등갯수</td>\n",
       "      <td>0.556151</td>\n",
       "    </tr>\n",
       "    <tr>\n",
       "      <th>2</th>\n",
       "      <td>교통안전표시</td>\n",
       "      <td>0.550645</td>\n",
       "    </tr>\n",
       "    <tr>\n",
       "      <th>3</th>\n",
       "      <td>보행_신호등갯수</td>\n",
       "      <td>0.454757</td>\n",
       "    </tr>\n",
       "    <tr>\n",
       "      <th>4</th>\n",
       "      <td>횡단보도</td>\n",
       "      <td>0.412550</td>\n",
       "    </tr>\n",
       "    <tr>\n",
       "      <th>5</th>\n",
       "      <td>CCTV갯수</td>\n",
       "      <td>0.388903</td>\n",
       "    </tr>\n",
       "    <tr>\n",
       "      <th>6</th>\n",
       "      <td>안전지대</td>\n",
       "      <td>0.255944</td>\n",
       "    </tr>\n",
       "    <tr>\n",
       "      <th>34</th>\n",
       "      <td>총인구</td>\n",
       "      <td>0.198328</td>\n",
       "    </tr>\n",
       "    <tr>\n",
       "      <th>33</th>\n",
       "      <td>생산가능인구</td>\n",
       "      <td>0.195190</td>\n",
       "    </tr>\n",
       "    <tr>\n",
       "      <th>32</th>\n",
       "      <td>고령자인구</td>\n",
       "      <td>0.181065</td>\n",
       "    </tr>\n",
       "    <tr>\n",
       "      <th>31</th>\n",
       "      <td>유소년인구</td>\n",
       "      <td>0.168345</td>\n",
       "    </tr>\n",
       "    <tr>\n",
       "      <th>7</th>\n",
       "      <td>정차금지지대</td>\n",
       "      <td>0.134797</td>\n",
       "    </tr>\n",
       "    <tr>\n",
       "      <th>30</th>\n",
       "      <td>등록차량</td>\n",
       "      <td>0.073496</td>\n",
       "    </tr>\n",
       "    <tr>\n",
       "      <th>8</th>\n",
       "      <td>연면적</td>\n",
       "      <td>0.069677</td>\n",
       "    </tr>\n",
       "    <tr>\n",
       "      <th>9</th>\n",
       "      <td>경상자수</td>\n",
       "      <td>0.061603</td>\n",
       "    </tr>\n",
       "    <tr>\n",
       "      <th>29</th>\n",
       "      <td>최대경도</td>\n",
       "      <td>0.057589</td>\n",
       "    </tr>\n",
       "    <tr>\n",
       "      <th>28</th>\n",
       "      <td>평균경도_Lon</td>\n",
       "      <td>0.057589</td>\n",
       "    </tr>\n",
       "    <tr>\n",
       "      <th>27</th>\n",
       "      <td>최소경도</td>\n",
       "      <td>0.057589</td>\n",
       "    </tr>\n",
       "    <tr>\n",
       "      <th>26</th>\n",
       "      <td>사망자수</td>\n",
       "      <td>0.038061</td>\n",
       "    </tr>\n",
       "    <tr>\n",
       "      <th>10</th>\n",
       "      <td>최대 풍속 풍향(16방위)</td>\n",
       "      <td>0.028552</td>\n",
       "    </tr>\n",
       "    <tr>\n",
       "      <th>25</th>\n",
       "      <td>평균기온(°C)</td>\n",
       "      <td>0.023336</td>\n",
       "    </tr>\n",
       "    <tr>\n",
       "      <th>24</th>\n",
       "      <td>평균 지면온도(°C)</td>\n",
       "      <td>0.023217</td>\n",
       "    </tr>\n",
       "    <tr>\n",
       "      <th>23</th>\n",
       "      <td>최저기온(°C)</td>\n",
       "      <td>0.022817</td>\n",
       "    </tr>\n",
       "    <tr>\n",
       "      <th>22</th>\n",
       "      <td>부상신고자수</td>\n",
       "      <td>0.022738</td>\n",
       "    </tr>\n",
       "    <tr>\n",
       "      <th>21</th>\n",
       "      <td>최고기온(°C)</td>\n",
       "      <td>0.022446</td>\n",
       "    </tr>\n",
       "    <tr>\n",
       "      <th>11</th>\n",
       "      <td>최대 풍속(m/s)</td>\n",
       "      <td>0.022348</td>\n",
       "    </tr>\n",
       "    <tr>\n",
       "      <th>20</th>\n",
       "      <td>중상자수</td>\n",
       "      <td>0.014701</td>\n",
       "    </tr>\n",
       "    <tr>\n",
       "      <th>12</th>\n",
       "      <td>일 최심적설(cm)</td>\n",
       "      <td>0.012873</td>\n",
       "    </tr>\n",
       "    <tr>\n",
       "      <th>19</th>\n",
       "      <td>최소위도</td>\n",
       "      <td>0.012149</td>\n",
       "    </tr>\n",
       "    <tr>\n",
       "      <th>18</th>\n",
       "      <td>평균위도_Lat</td>\n",
       "      <td>0.012149</td>\n",
       "    </tr>\n",
       "    <tr>\n",
       "      <th>17</th>\n",
       "      <td>최대위도</td>\n",
       "      <td>0.012149</td>\n",
       "    </tr>\n",
       "    <tr>\n",
       "      <th>16</th>\n",
       "      <td>일강수량(mm)</td>\n",
       "      <td>0.011230</td>\n",
       "    </tr>\n",
       "    <tr>\n",
       "      <th>15</th>\n",
       "      <td>평균 상대습도(%)</td>\n",
       "      <td>0.008792</td>\n",
       "    </tr>\n",
       "    <tr>\n",
       "      <th>13</th>\n",
       "      <td>평균 풍속(m/s)</td>\n",
       "      <td>0.008004</td>\n",
       "    </tr>\n",
       "    <tr>\n",
       "      <th>14</th>\n",
       "      <td>안개 계속시간(hr)</td>\n",
       "      <td>0.001648</td>\n",
       "    </tr>\n",
       "  </tbody>\n",
       "</table>\n",
       "</div>"
      ],
      "text/plain": [
       "                변수      상관관계\n",
       "0         acci_cnt  1.000000\n",
       "1         차량_신호등갯수  0.556151\n",
       "2           교통안전표시  0.550645\n",
       "3         보행_신호등갯수  0.454757\n",
       "4             횡단보도  0.412550\n",
       "5           CCTV갯수  0.388903\n",
       "6             안전지대  0.255944\n",
       "34             총인구  0.198328\n",
       "33          생산가능인구  0.195190\n",
       "32           고령자인구  0.181065\n",
       "31           유소년인구  0.168345\n",
       "7           정차금지지대  0.134797\n",
       "30            등록차량  0.073496\n",
       "8              연면적  0.069677\n",
       "9             경상자수  0.061603\n",
       "29            최대경도  0.057589\n",
       "28        평균경도_Lon  0.057589\n",
       "27            최소경도  0.057589\n",
       "26            사망자수  0.038061\n",
       "10  최대 풍속 풍향(16방위)  0.028552\n",
       "25        평균기온(°C)  0.023336\n",
       "24     평균 지면온도(°C)  0.023217\n",
       "23        최저기온(°C)  0.022817\n",
       "22          부상신고자수  0.022738\n",
       "21        최고기온(°C)  0.022446\n",
       "11      최대 풍속(m/s)  0.022348\n",
       "20            중상자수  0.014701\n",
       "12      일 최심적설(cm)  0.012873\n",
       "19            최소위도  0.012149\n",
       "18        평균위도_Lat  0.012149\n",
       "17            최대위도  0.012149\n",
       "16        일강수량(mm)  0.011230\n",
       "15      평균 상대습도(%)  0.008792\n",
       "13      평균 풍속(m/s)  0.008004\n",
       "14     안개 계속시간(hr)  0.001648"
      ]
     },
     "execution_count": 61,
     "metadata": {},
     "output_type": "execute_result"
    }
   ],
   "source": [
    "a"
   ]
  },
  {
   "cell_type": "code",
   "execution_count": 62,
   "metadata": {},
   "outputs": [
    {
     "data": {
      "application/vnd.plotly.v1+json": {
       "config": {
        "plotlyServerURL": "https://plot.ly"
       },
       "data": [
        {
         "alignmentgroup": "True",
         "hovertemplate": "변수=%{x}<br>상관관계=%{y}<extra></extra>",
         "legendgroup": "",
         "marker": {
          "color": "#636efa"
         },
         "name": "",
         "offsetgroup": "",
         "orientation": "v",
         "showlegend": false,
         "textposition": "auto",
         "type": "bar",
         "x": [
          "acci_cnt",
          "차량_신호등갯수",
          "교통안전표시",
          "보행_신호등갯수",
          "횡단보도",
          "CCTV갯수",
          "안전지대",
          "총인구",
          "생산가능인구",
          "고령자인구",
          "유소년인구",
          "정차금지지대",
          "등록차량",
          "연면적",
          "경상자수",
          "최대경도",
          "평균경도_Lon",
          "최소경도",
          "사망자수",
          "최대 풍속 풍향(16방위)",
          "평균기온(°C)",
          "평균 지면온도(°C)",
          "최저기온(°C)",
          "부상신고자수",
          "최고기온(°C)",
          "최대 풍속(m/s)",
          "중상자수",
          "일 최심적설(cm)",
          "최소위도",
          "평균위도_Lat",
          "최대위도",
          "일강수량(mm)",
          "평균 상대습도(%)",
          "평균 풍속(m/s)",
          "안개 계속시간(hr)"
         ],
         "xaxis": "x",
         "y": [
          1,
          0.5561510595156292,
          0.5506453717584573,
          0.45475730151782817,
          0.41254971096433035,
          0.38890268126376537,
          0.25594376185352335,
          0.19832815627759778,
          0.19519026784362822,
          0.18106498865401716,
          0.16834480592908266,
          0.1347970959730103,
          0.07349628430078646,
          0.06967671840605172,
          0.061603204385088685,
          0.05758887851580528,
          0.05758879253380511,
          0.05758870655069588,
          0.038061379408487306,
          0.028551680336379268,
          0.023335946052751418,
          0.023217106751293234,
          0.022817033971908998,
          0.022738232561364865,
          0.02244580956323896,
          0.022348041269115715,
          0.01470068344166713,
          0.012873373639388624,
          0.012149189391727917,
          0.012148874023758303,
          0.012148558655476715,
          0.011229793844440832,
          0.008792433895188259,
          0.008003617975652374,
          0.0016479433354663802
         ],
         "yaxis": "y"
        }
       ],
       "layout": {
        "barmode": "relative",
        "legend": {
         "tracegroupgap": 0
        },
        "template": {
         "data": {
          "bar": [
           {
            "error_x": {
             "color": "#2a3f5f"
            },
            "error_y": {
             "color": "#2a3f5f"
            },
            "marker": {
             "line": {
              "color": "#E5ECF6",
              "width": 0.5
             }
            },
            "type": "bar"
           }
          ],
          "barpolar": [
           {
            "marker": {
             "line": {
              "color": "#E5ECF6",
              "width": 0.5
             }
            },
            "type": "barpolar"
           }
          ],
          "carpet": [
           {
            "aaxis": {
             "endlinecolor": "#2a3f5f",
             "gridcolor": "white",
             "linecolor": "white",
             "minorgridcolor": "white",
             "startlinecolor": "#2a3f5f"
            },
            "baxis": {
             "endlinecolor": "#2a3f5f",
             "gridcolor": "white",
             "linecolor": "white",
             "minorgridcolor": "white",
             "startlinecolor": "#2a3f5f"
            },
            "type": "carpet"
           }
          ],
          "choropleth": [
           {
            "colorbar": {
             "outlinewidth": 0,
             "ticks": ""
            },
            "type": "choropleth"
           }
          ],
          "contour": [
           {
            "colorbar": {
             "outlinewidth": 0,
             "ticks": ""
            },
            "colorscale": [
             [
              0,
              "#0d0887"
             ],
             [
              0.1111111111111111,
              "#46039f"
             ],
             [
              0.2222222222222222,
              "#7201a8"
             ],
             [
              0.3333333333333333,
              "#9c179e"
             ],
             [
              0.4444444444444444,
              "#bd3786"
             ],
             [
              0.5555555555555556,
              "#d8576b"
             ],
             [
              0.6666666666666666,
              "#ed7953"
             ],
             [
              0.7777777777777778,
              "#fb9f3a"
             ],
             [
              0.8888888888888888,
              "#fdca26"
             ],
             [
              1,
              "#f0f921"
             ]
            ],
            "type": "contour"
           }
          ],
          "contourcarpet": [
           {
            "colorbar": {
             "outlinewidth": 0,
             "ticks": ""
            },
            "type": "contourcarpet"
           }
          ],
          "heatmap": [
           {
            "colorbar": {
             "outlinewidth": 0,
             "ticks": ""
            },
            "colorscale": [
             [
              0,
              "#0d0887"
             ],
             [
              0.1111111111111111,
              "#46039f"
             ],
             [
              0.2222222222222222,
              "#7201a8"
             ],
             [
              0.3333333333333333,
              "#9c179e"
             ],
             [
              0.4444444444444444,
              "#bd3786"
             ],
             [
              0.5555555555555556,
              "#d8576b"
             ],
             [
              0.6666666666666666,
              "#ed7953"
             ],
             [
              0.7777777777777778,
              "#fb9f3a"
             ],
             [
              0.8888888888888888,
              "#fdca26"
             ],
             [
              1,
              "#f0f921"
             ]
            ],
            "type": "heatmap"
           }
          ],
          "heatmapgl": [
           {
            "colorbar": {
             "outlinewidth": 0,
             "ticks": ""
            },
            "colorscale": [
             [
              0,
              "#0d0887"
             ],
             [
              0.1111111111111111,
              "#46039f"
             ],
             [
              0.2222222222222222,
              "#7201a8"
             ],
             [
              0.3333333333333333,
              "#9c179e"
             ],
             [
              0.4444444444444444,
              "#bd3786"
             ],
             [
              0.5555555555555556,
              "#d8576b"
             ],
             [
              0.6666666666666666,
              "#ed7953"
             ],
             [
              0.7777777777777778,
              "#fb9f3a"
             ],
             [
              0.8888888888888888,
              "#fdca26"
             ],
             [
              1,
              "#f0f921"
             ]
            ],
            "type": "heatmapgl"
           }
          ],
          "histogram": [
           {
            "marker": {
             "colorbar": {
              "outlinewidth": 0,
              "ticks": ""
             }
            },
            "type": "histogram"
           }
          ],
          "histogram2d": [
           {
            "colorbar": {
             "outlinewidth": 0,
             "ticks": ""
            },
            "colorscale": [
             [
              0,
              "#0d0887"
             ],
             [
              0.1111111111111111,
              "#46039f"
             ],
             [
              0.2222222222222222,
              "#7201a8"
             ],
             [
              0.3333333333333333,
              "#9c179e"
             ],
             [
              0.4444444444444444,
              "#bd3786"
             ],
             [
              0.5555555555555556,
              "#d8576b"
             ],
             [
              0.6666666666666666,
              "#ed7953"
             ],
             [
              0.7777777777777778,
              "#fb9f3a"
             ],
             [
              0.8888888888888888,
              "#fdca26"
             ],
             [
              1,
              "#f0f921"
             ]
            ],
            "type": "histogram2d"
           }
          ],
          "histogram2dcontour": [
           {
            "colorbar": {
             "outlinewidth": 0,
             "ticks": ""
            },
            "colorscale": [
             [
              0,
              "#0d0887"
             ],
             [
              0.1111111111111111,
              "#46039f"
             ],
             [
              0.2222222222222222,
              "#7201a8"
             ],
             [
              0.3333333333333333,
              "#9c179e"
             ],
             [
              0.4444444444444444,
              "#bd3786"
             ],
             [
              0.5555555555555556,
              "#d8576b"
             ],
             [
              0.6666666666666666,
              "#ed7953"
             ],
             [
              0.7777777777777778,
              "#fb9f3a"
             ],
             [
              0.8888888888888888,
              "#fdca26"
             ],
             [
              1,
              "#f0f921"
             ]
            ],
            "type": "histogram2dcontour"
           }
          ],
          "mesh3d": [
           {
            "colorbar": {
             "outlinewidth": 0,
             "ticks": ""
            },
            "type": "mesh3d"
           }
          ],
          "parcoords": [
           {
            "line": {
             "colorbar": {
              "outlinewidth": 0,
              "ticks": ""
             }
            },
            "type": "parcoords"
           }
          ],
          "pie": [
           {
            "automargin": true,
            "type": "pie"
           }
          ],
          "scatter": [
           {
            "marker": {
             "colorbar": {
              "outlinewidth": 0,
              "ticks": ""
             }
            },
            "type": "scatter"
           }
          ],
          "scatter3d": [
           {
            "line": {
             "colorbar": {
              "outlinewidth": 0,
              "ticks": ""
             }
            },
            "marker": {
             "colorbar": {
              "outlinewidth": 0,
              "ticks": ""
             }
            },
            "type": "scatter3d"
           }
          ],
          "scattercarpet": [
           {
            "marker": {
             "colorbar": {
              "outlinewidth": 0,
              "ticks": ""
             }
            },
            "type": "scattercarpet"
           }
          ],
          "scattergeo": [
           {
            "marker": {
             "colorbar": {
              "outlinewidth": 0,
              "ticks": ""
             }
            },
            "type": "scattergeo"
           }
          ],
          "scattergl": [
           {
            "marker": {
             "colorbar": {
              "outlinewidth": 0,
              "ticks": ""
             }
            },
            "type": "scattergl"
           }
          ],
          "scattermapbox": [
           {
            "marker": {
             "colorbar": {
              "outlinewidth": 0,
              "ticks": ""
             }
            },
            "type": "scattermapbox"
           }
          ],
          "scatterpolar": [
           {
            "marker": {
             "colorbar": {
              "outlinewidth": 0,
              "ticks": ""
             }
            },
            "type": "scatterpolar"
           }
          ],
          "scatterpolargl": [
           {
            "marker": {
             "colorbar": {
              "outlinewidth": 0,
              "ticks": ""
             }
            },
            "type": "scatterpolargl"
           }
          ],
          "scatterternary": [
           {
            "marker": {
             "colorbar": {
              "outlinewidth": 0,
              "ticks": ""
             }
            },
            "type": "scatterternary"
           }
          ],
          "surface": [
           {
            "colorbar": {
             "outlinewidth": 0,
             "ticks": ""
            },
            "colorscale": [
             [
              0,
              "#0d0887"
             ],
             [
              0.1111111111111111,
              "#46039f"
             ],
             [
              0.2222222222222222,
              "#7201a8"
             ],
             [
              0.3333333333333333,
              "#9c179e"
             ],
             [
              0.4444444444444444,
              "#bd3786"
             ],
             [
              0.5555555555555556,
              "#d8576b"
             ],
             [
              0.6666666666666666,
              "#ed7953"
             ],
             [
              0.7777777777777778,
              "#fb9f3a"
             ],
             [
              0.8888888888888888,
              "#fdca26"
             ],
             [
              1,
              "#f0f921"
             ]
            ],
            "type": "surface"
           }
          ],
          "table": [
           {
            "cells": {
             "fill": {
              "color": "#EBF0F8"
             },
             "line": {
              "color": "white"
             }
            },
            "header": {
             "fill": {
              "color": "#C8D4E3"
             },
             "line": {
              "color": "white"
             }
            },
            "type": "table"
           }
          ]
         },
         "layout": {
          "annotationdefaults": {
           "arrowcolor": "#2a3f5f",
           "arrowhead": 0,
           "arrowwidth": 1
          },
          "autotypenumbers": "strict",
          "coloraxis": {
           "colorbar": {
            "outlinewidth": 0,
            "ticks": ""
           }
          },
          "colorscale": {
           "diverging": [
            [
             0,
             "#8e0152"
            ],
            [
             0.1,
             "#c51b7d"
            ],
            [
             0.2,
             "#de77ae"
            ],
            [
             0.3,
             "#f1b6da"
            ],
            [
             0.4,
             "#fde0ef"
            ],
            [
             0.5,
             "#f7f7f7"
            ],
            [
             0.6,
             "#e6f5d0"
            ],
            [
             0.7,
             "#b8e186"
            ],
            [
             0.8,
             "#7fbc41"
            ],
            [
             0.9,
             "#4d9221"
            ],
            [
             1,
             "#276419"
            ]
           ],
           "sequential": [
            [
             0,
             "#0d0887"
            ],
            [
             0.1111111111111111,
             "#46039f"
            ],
            [
             0.2222222222222222,
             "#7201a8"
            ],
            [
             0.3333333333333333,
             "#9c179e"
            ],
            [
             0.4444444444444444,
             "#bd3786"
            ],
            [
             0.5555555555555556,
             "#d8576b"
            ],
            [
             0.6666666666666666,
             "#ed7953"
            ],
            [
             0.7777777777777778,
             "#fb9f3a"
            ],
            [
             0.8888888888888888,
             "#fdca26"
            ],
            [
             1,
             "#f0f921"
            ]
           ],
           "sequentialminus": [
            [
             0,
             "#0d0887"
            ],
            [
             0.1111111111111111,
             "#46039f"
            ],
            [
             0.2222222222222222,
             "#7201a8"
            ],
            [
             0.3333333333333333,
             "#9c179e"
            ],
            [
             0.4444444444444444,
             "#bd3786"
            ],
            [
             0.5555555555555556,
             "#d8576b"
            ],
            [
             0.6666666666666666,
             "#ed7953"
            ],
            [
             0.7777777777777778,
             "#fb9f3a"
            ],
            [
             0.8888888888888888,
             "#fdca26"
            ],
            [
             1,
             "#f0f921"
            ]
           ]
          },
          "colorway": [
           "#636efa",
           "#EF553B",
           "#00cc96",
           "#ab63fa",
           "#FFA15A",
           "#19d3f3",
           "#FF6692",
           "#B6E880",
           "#FF97FF",
           "#FECB52"
          ],
          "font": {
           "color": "#2a3f5f"
          },
          "geo": {
           "bgcolor": "white",
           "lakecolor": "white",
           "landcolor": "#E5ECF6",
           "showlakes": true,
           "showland": true,
           "subunitcolor": "white"
          },
          "hoverlabel": {
           "align": "left"
          },
          "hovermode": "closest",
          "mapbox": {
           "style": "light"
          },
          "paper_bgcolor": "white",
          "plot_bgcolor": "#E5ECF6",
          "polar": {
           "angularaxis": {
            "gridcolor": "white",
            "linecolor": "white",
            "ticks": ""
           },
           "bgcolor": "#E5ECF6",
           "radialaxis": {
            "gridcolor": "white",
            "linecolor": "white",
            "ticks": ""
           }
          },
          "scene": {
           "xaxis": {
            "backgroundcolor": "#E5ECF6",
            "gridcolor": "white",
            "gridwidth": 2,
            "linecolor": "white",
            "showbackground": true,
            "ticks": "",
            "zerolinecolor": "white"
           },
           "yaxis": {
            "backgroundcolor": "#E5ECF6",
            "gridcolor": "white",
            "gridwidth": 2,
            "linecolor": "white",
            "showbackground": true,
            "ticks": "",
            "zerolinecolor": "white"
           },
           "zaxis": {
            "backgroundcolor": "#E5ECF6",
            "gridcolor": "white",
            "gridwidth": 2,
            "linecolor": "white",
            "showbackground": true,
            "ticks": "",
            "zerolinecolor": "white"
           }
          },
          "shapedefaults": {
           "line": {
            "color": "#2a3f5f"
           }
          },
          "ternary": {
           "aaxis": {
            "gridcolor": "white",
            "linecolor": "white",
            "ticks": ""
           },
           "baxis": {
            "gridcolor": "white",
            "linecolor": "white",
            "ticks": ""
           },
           "bgcolor": "#E5ECF6",
           "caxis": {
            "gridcolor": "white",
            "linecolor": "white",
            "ticks": ""
           }
          },
          "title": {
           "x": 0.05
          },
          "xaxis": {
           "automargin": true,
           "gridcolor": "white",
           "linecolor": "white",
           "ticks": "",
           "title": {
            "standoff": 15
           },
           "zerolinecolor": "white",
           "zerolinewidth": 2
          },
          "yaxis": {
           "automargin": true,
           "gridcolor": "white",
           "linecolor": "white",
           "ticks": "",
           "title": {
            "standoff": 15
           },
           "zerolinecolor": "white",
           "zerolinewidth": 2
          }
         }
        },
        "title": {
         "text": "사고"
        },
        "xaxis": {
         "anchor": "y",
         "domain": [
          0,
          1
         ],
         "title": {
          "text": "변수"
         }
        },
        "yaxis": {
         "anchor": "x",
         "domain": [
          0,
          1
         ],
         "title": {
          "text": "상관관계"
         }
        }
       }
      },
      "text/html": [
       "<div>                            <div id=\"e7c11cfa-fa2d-4845-8fd6-9ee57ee67800\" class=\"plotly-graph-div\" style=\"height:525px; width:100%;\"></div>            <script type=\"text/javascript\">                require([\"plotly\"], function(Plotly) {                    window.PLOTLYENV=window.PLOTLYENV || {};                                    if (document.getElementById(\"e7c11cfa-fa2d-4845-8fd6-9ee57ee67800\")) {                    Plotly.newPlot(                        \"e7c11cfa-fa2d-4845-8fd6-9ee57ee67800\",                        [{\"alignmentgroup\": \"True\", \"hovertemplate\": \"\\ubcc0\\uc218=%{x}<br>\\uc0c1\\uad00\\uad00\\uacc4=%{y}<extra></extra>\", \"legendgroup\": \"\", \"marker\": {\"color\": \"#636efa\"}, \"name\": \"\", \"offsetgroup\": \"\", \"orientation\": \"v\", \"showlegend\": false, \"textposition\": \"auto\", \"type\": \"bar\", \"x\": [\"acci_cnt\", \"\\ucc28\\ub7c9_\\uc2e0\\ud638\\ub4f1\\uac2f\\uc218\", \"\\uad50\\ud1b5\\uc548\\uc804\\ud45c\\uc2dc\", \"\\ubcf4\\ud589_\\uc2e0\\ud638\\ub4f1\\uac2f\\uc218\", \"\\ud6a1\\ub2e8\\ubcf4\\ub3c4\", \"CCTV\\uac2f\\uc218\", \"\\uc548\\uc804\\uc9c0\\ub300\", \"\\ucd1d\\uc778\\uad6c\", \"\\uc0dd\\uc0b0\\uac00\\ub2a5\\uc778\\uad6c\", \"\\uace0\\ub839\\uc790\\uc778\\uad6c\", \"\\uc720\\uc18c\\ub144\\uc778\\uad6c\", \"\\uc815\\ucc28\\uae08\\uc9c0\\uc9c0\\ub300\", \"\\ub4f1\\ub85d\\ucc28\\ub7c9\", \"\\uc5f0\\uba74\\uc801\", \"\\uacbd\\uc0c1\\uc790\\uc218\", \"\\ucd5c\\ub300\\uacbd\\ub3c4\", \"\\ud3c9\\uade0\\uacbd\\ub3c4_Lon\", \"\\ucd5c\\uc18c\\uacbd\\ub3c4\", \"\\uc0ac\\ub9dd\\uc790\\uc218\", \"\\ucd5c\\ub300 \\ud48d\\uc18d \\ud48d\\ud5a5(16\\ubc29\\uc704)\", \"\\ud3c9\\uade0\\uae30\\uc628(\\u00b0C)\", \"\\ud3c9\\uade0 \\uc9c0\\uba74\\uc628\\ub3c4(\\u00b0C)\", \"\\ucd5c\\uc800\\uae30\\uc628(\\u00b0C)\", \"\\ubd80\\uc0c1\\uc2e0\\uace0\\uc790\\uc218\", \"\\ucd5c\\uace0\\uae30\\uc628(\\u00b0C)\", \"\\ucd5c\\ub300 \\ud48d\\uc18d(m/s)\", \"\\uc911\\uc0c1\\uc790\\uc218\", \"\\uc77c \\ucd5c\\uc2ec\\uc801\\uc124(cm)\", \"\\ucd5c\\uc18c\\uc704\\ub3c4\", \"\\ud3c9\\uade0\\uc704\\ub3c4_Lat\", \"\\ucd5c\\ub300\\uc704\\ub3c4\", \"\\uc77c\\uac15\\uc218\\ub7c9(mm)\", \"\\ud3c9\\uade0 \\uc0c1\\ub300\\uc2b5\\ub3c4(%)\", \"\\ud3c9\\uade0 \\ud48d\\uc18d(m/s)\", \"\\uc548\\uac1c \\uacc4\\uc18d\\uc2dc\\uac04(hr)\"], \"xaxis\": \"x\", \"y\": [1.0, 0.5561510595156292, 0.5506453717584573, 0.45475730151782817, 0.41254971096433035, 0.38890268126376537, 0.25594376185352335, 0.19832815627759778, 0.19519026784362822, 0.18106498865401716, 0.16834480592908266, 0.1347970959730103, 0.07349628430078646, 0.06967671840605172, 0.061603204385088685, 0.05758887851580528, 0.05758879253380511, 0.05758870655069588, 0.038061379408487306, 0.028551680336379268, 0.023335946052751418, 0.023217106751293234, 0.022817033971908998, 0.022738232561364865, 0.02244580956323896, 0.022348041269115715, 0.01470068344166713, 0.012873373639388624, 0.012149189391727917, 0.012148874023758303, 0.012148558655476715, 0.011229793844440832, 0.008792433895188259, 0.008003617975652374, 0.0016479433354663802], \"yaxis\": \"y\"}],                        {\"barmode\": \"relative\", \"legend\": {\"tracegroupgap\": 0}, \"template\": {\"data\": {\"bar\": [{\"error_x\": {\"color\": \"#2a3f5f\"}, \"error_y\": {\"color\": \"#2a3f5f\"}, \"marker\": {\"line\": {\"color\": \"#E5ECF6\", \"width\": 0.5}}, \"type\": \"bar\"}], \"barpolar\": [{\"marker\": {\"line\": {\"color\": \"#E5ECF6\", \"width\": 0.5}}, \"type\": \"barpolar\"}], \"carpet\": [{\"aaxis\": {\"endlinecolor\": \"#2a3f5f\", \"gridcolor\": \"white\", \"linecolor\": \"white\", \"minorgridcolor\": \"white\", \"startlinecolor\": \"#2a3f5f\"}, \"baxis\": {\"endlinecolor\": \"#2a3f5f\", \"gridcolor\": \"white\", \"linecolor\": \"white\", \"minorgridcolor\": \"white\", \"startlinecolor\": \"#2a3f5f\"}, \"type\": \"carpet\"}], \"choropleth\": [{\"colorbar\": {\"outlinewidth\": 0, \"ticks\": \"\"}, \"type\": \"choropleth\"}], \"contour\": [{\"colorbar\": {\"outlinewidth\": 0, \"ticks\": \"\"}, \"colorscale\": [[0.0, \"#0d0887\"], [0.1111111111111111, \"#46039f\"], [0.2222222222222222, \"#7201a8\"], [0.3333333333333333, \"#9c179e\"], [0.4444444444444444, \"#bd3786\"], [0.5555555555555556, \"#d8576b\"], [0.6666666666666666, \"#ed7953\"], [0.7777777777777778, \"#fb9f3a\"], [0.8888888888888888, \"#fdca26\"], [1.0, \"#f0f921\"]], \"type\": \"contour\"}], \"contourcarpet\": [{\"colorbar\": {\"outlinewidth\": 0, \"ticks\": \"\"}, \"type\": \"contourcarpet\"}], \"heatmap\": [{\"colorbar\": {\"outlinewidth\": 0, \"ticks\": \"\"}, \"colorscale\": [[0.0, \"#0d0887\"], [0.1111111111111111, \"#46039f\"], [0.2222222222222222, \"#7201a8\"], [0.3333333333333333, \"#9c179e\"], [0.4444444444444444, \"#bd3786\"], [0.5555555555555556, \"#d8576b\"], [0.6666666666666666, \"#ed7953\"], [0.7777777777777778, \"#fb9f3a\"], [0.8888888888888888, \"#fdca26\"], [1.0, \"#f0f921\"]], \"type\": \"heatmap\"}], \"heatmapgl\": [{\"colorbar\": {\"outlinewidth\": 0, \"ticks\": \"\"}, \"colorscale\": [[0.0, \"#0d0887\"], [0.1111111111111111, \"#46039f\"], [0.2222222222222222, \"#7201a8\"], [0.3333333333333333, \"#9c179e\"], [0.4444444444444444, \"#bd3786\"], [0.5555555555555556, \"#d8576b\"], [0.6666666666666666, \"#ed7953\"], [0.7777777777777778, \"#fb9f3a\"], [0.8888888888888888, \"#fdca26\"], [1.0, \"#f0f921\"]], \"type\": \"heatmapgl\"}], \"histogram\": [{\"marker\": {\"colorbar\": {\"outlinewidth\": 0, \"ticks\": \"\"}}, \"type\": \"histogram\"}], \"histogram2d\": [{\"colorbar\": {\"outlinewidth\": 0, \"ticks\": \"\"}, \"colorscale\": [[0.0, \"#0d0887\"], [0.1111111111111111, \"#46039f\"], [0.2222222222222222, \"#7201a8\"], [0.3333333333333333, \"#9c179e\"], [0.4444444444444444, \"#bd3786\"], [0.5555555555555556, \"#d8576b\"], [0.6666666666666666, \"#ed7953\"], [0.7777777777777778, \"#fb9f3a\"], [0.8888888888888888, \"#fdca26\"], [1.0, \"#f0f921\"]], \"type\": \"histogram2d\"}], \"histogram2dcontour\": [{\"colorbar\": {\"outlinewidth\": 0, \"ticks\": \"\"}, \"colorscale\": [[0.0, \"#0d0887\"], [0.1111111111111111, \"#46039f\"], [0.2222222222222222, \"#7201a8\"], [0.3333333333333333, \"#9c179e\"], [0.4444444444444444, \"#bd3786\"], [0.5555555555555556, \"#d8576b\"], [0.6666666666666666, \"#ed7953\"], [0.7777777777777778, \"#fb9f3a\"], [0.8888888888888888, \"#fdca26\"], [1.0, \"#f0f921\"]], \"type\": \"histogram2dcontour\"}], \"mesh3d\": [{\"colorbar\": {\"outlinewidth\": 0, \"ticks\": \"\"}, \"type\": \"mesh3d\"}], \"parcoords\": [{\"line\": {\"colorbar\": {\"outlinewidth\": 0, \"ticks\": \"\"}}, \"type\": \"parcoords\"}], \"pie\": [{\"automargin\": true, \"type\": \"pie\"}], \"scatter\": [{\"marker\": {\"colorbar\": {\"outlinewidth\": 0, \"ticks\": \"\"}}, \"type\": \"scatter\"}], \"scatter3d\": [{\"line\": {\"colorbar\": {\"outlinewidth\": 0, \"ticks\": \"\"}}, \"marker\": {\"colorbar\": {\"outlinewidth\": 0, \"ticks\": \"\"}}, \"type\": \"scatter3d\"}], \"scattercarpet\": [{\"marker\": {\"colorbar\": {\"outlinewidth\": 0, \"ticks\": \"\"}}, \"type\": \"scattercarpet\"}], \"scattergeo\": [{\"marker\": {\"colorbar\": {\"outlinewidth\": 0, \"ticks\": \"\"}}, \"type\": \"scattergeo\"}], \"scattergl\": [{\"marker\": {\"colorbar\": {\"outlinewidth\": 0, \"ticks\": \"\"}}, \"type\": \"scattergl\"}], \"scattermapbox\": [{\"marker\": {\"colorbar\": {\"outlinewidth\": 0, \"ticks\": \"\"}}, \"type\": \"scattermapbox\"}], \"scatterpolar\": [{\"marker\": {\"colorbar\": {\"outlinewidth\": 0, \"ticks\": \"\"}}, \"type\": \"scatterpolar\"}], \"scatterpolargl\": [{\"marker\": {\"colorbar\": {\"outlinewidth\": 0, \"ticks\": \"\"}}, \"type\": \"scatterpolargl\"}], \"scatterternary\": [{\"marker\": {\"colorbar\": {\"outlinewidth\": 0, \"ticks\": \"\"}}, \"type\": \"scatterternary\"}], \"surface\": [{\"colorbar\": {\"outlinewidth\": 0, \"ticks\": \"\"}, \"colorscale\": [[0.0, \"#0d0887\"], [0.1111111111111111, \"#46039f\"], [0.2222222222222222, \"#7201a8\"], [0.3333333333333333, \"#9c179e\"], [0.4444444444444444, \"#bd3786\"], [0.5555555555555556, \"#d8576b\"], [0.6666666666666666, \"#ed7953\"], [0.7777777777777778, \"#fb9f3a\"], [0.8888888888888888, \"#fdca26\"], [1.0, \"#f0f921\"]], \"type\": \"surface\"}], \"table\": [{\"cells\": {\"fill\": {\"color\": \"#EBF0F8\"}, \"line\": {\"color\": \"white\"}}, \"header\": {\"fill\": {\"color\": \"#C8D4E3\"}, \"line\": {\"color\": \"white\"}}, \"type\": \"table\"}]}, \"layout\": {\"annotationdefaults\": {\"arrowcolor\": \"#2a3f5f\", \"arrowhead\": 0, \"arrowwidth\": 1}, \"autotypenumbers\": \"strict\", \"coloraxis\": {\"colorbar\": {\"outlinewidth\": 0, \"ticks\": \"\"}}, \"colorscale\": {\"diverging\": [[0, \"#8e0152\"], [0.1, \"#c51b7d\"], [0.2, \"#de77ae\"], [0.3, \"#f1b6da\"], [0.4, \"#fde0ef\"], [0.5, \"#f7f7f7\"], [0.6, \"#e6f5d0\"], [0.7, \"#b8e186\"], [0.8, \"#7fbc41\"], [0.9, \"#4d9221\"], [1, \"#276419\"]], \"sequential\": [[0.0, \"#0d0887\"], [0.1111111111111111, \"#46039f\"], [0.2222222222222222, \"#7201a8\"], [0.3333333333333333, \"#9c179e\"], [0.4444444444444444, \"#bd3786\"], [0.5555555555555556, \"#d8576b\"], [0.6666666666666666, \"#ed7953\"], [0.7777777777777778, \"#fb9f3a\"], [0.8888888888888888, \"#fdca26\"], [1.0, \"#f0f921\"]], \"sequentialminus\": [[0.0, \"#0d0887\"], [0.1111111111111111, \"#46039f\"], [0.2222222222222222, \"#7201a8\"], [0.3333333333333333, \"#9c179e\"], [0.4444444444444444, \"#bd3786\"], [0.5555555555555556, \"#d8576b\"], [0.6666666666666666, \"#ed7953\"], [0.7777777777777778, \"#fb9f3a\"], [0.8888888888888888, \"#fdca26\"], [1.0, \"#f0f921\"]]}, \"colorway\": [\"#636efa\", \"#EF553B\", \"#00cc96\", \"#ab63fa\", \"#FFA15A\", \"#19d3f3\", \"#FF6692\", \"#B6E880\", \"#FF97FF\", \"#FECB52\"], \"font\": {\"color\": \"#2a3f5f\"}, \"geo\": {\"bgcolor\": \"white\", \"lakecolor\": \"white\", \"landcolor\": \"#E5ECF6\", \"showlakes\": true, \"showland\": true, \"subunitcolor\": \"white\"}, \"hoverlabel\": {\"align\": \"left\"}, \"hovermode\": \"closest\", \"mapbox\": {\"style\": \"light\"}, \"paper_bgcolor\": \"white\", \"plot_bgcolor\": \"#E5ECF6\", \"polar\": {\"angularaxis\": {\"gridcolor\": \"white\", \"linecolor\": \"white\", \"ticks\": \"\"}, \"bgcolor\": \"#E5ECF6\", \"radialaxis\": {\"gridcolor\": \"white\", \"linecolor\": \"white\", \"ticks\": \"\"}}, \"scene\": {\"xaxis\": {\"backgroundcolor\": \"#E5ECF6\", \"gridcolor\": \"white\", \"gridwidth\": 2, \"linecolor\": \"white\", \"showbackground\": true, \"ticks\": \"\", \"zerolinecolor\": \"white\"}, \"yaxis\": {\"backgroundcolor\": \"#E5ECF6\", \"gridcolor\": \"white\", \"gridwidth\": 2, \"linecolor\": \"white\", \"showbackground\": true, \"ticks\": \"\", \"zerolinecolor\": \"white\"}, \"zaxis\": {\"backgroundcolor\": \"#E5ECF6\", \"gridcolor\": \"white\", \"gridwidth\": 2, \"linecolor\": \"white\", \"showbackground\": true, \"ticks\": \"\", \"zerolinecolor\": \"white\"}}, \"shapedefaults\": {\"line\": {\"color\": \"#2a3f5f\"}}, \"ternary\": {\"aaxis\": {\"gridcolor\": \"white\", \"linecolor\": \"white\", \"ticks\": \"\"}, \"baxis\": {\"gridcolor\": \"white\", \"linecolor\": \"white\", \"ticks\": \"\"}, \"bgcolor\": \"#E5ECF6\", \"caxis\": {\"gridcolor\": \"white\", \"linecolor\": \"white\", \"ticks\": \"\"}}, \"title\": {\"x\": 0.05}, \"xaxis\": {\"automargin\": true, \"gridcolor\": \"white\", \"linecolor\": \"white\", \"ticks\": \"\", \"title\": {\"standoff\": 15}, \"zerolinecolor\": \"white\", \"zerolinewidth\": 2}, \"yaxis\": {\"automargin\": true, \"gridcolor\": \"white\", \"linecolor\": \"white\", \"ticks\": \"\", \"title\": {\"standoff\": 15}, \"zerolinecolor\": \"white\", \"zerolinewidth\": 2}}}, \"title\": {\"text\": \"\\uc0ac\\uace0\"}, \"xaxis\": {\"anchor\": \"y\", \"domain\": [0.0, 1.0], \"title\": {\"text\": \"\\ubcc0\\uc218\"}}, \"yaxis\": {\"anchor\": \"x\", \"domain\": [0.0, 1.0], \"title\": {\"text\": \"\\uc0c1\\uad00\\uad00\\uacc4\"}}},                        {\"responsive\": true}                    ).then(function(){\n",
       "                            \n",
       "var gd = document.getElementById('e7c11cfa-fa2d-4845-8fd6-9ee57ee67800');\n",
       "var x = new MutationObserver(function (mutations, observer) {{\n",
       "        var display = window.getComputedStyle(gd).display;\n",
       "        if (!display || display === 'none') {{\n",
       "            console.log([gd, 'removed!']);\n",
       "            Plotly.purge(gd);\n",
       "            observer.disconnect();\n",
       "        }}\n",
       "}});\n",
       "\n",
       "// Listen for the removal of the full notebook cells\n",
       "var notebookContainer = gd.closest('#notebook-container');\n",
       "if (notebookContainer) {{\n",
       "    x.observe(notebookContainer, {childList: true});\n",
       "}}\n",
       "\n",
       "// Listen for the clearing of the current output cell\n",
       "var outputEl = gd.closest('.output');\n",
       "if (outputEl) {{\n",
       "    x.observe(outputEl, {childList: true});\n",
       "}}\n",
       "\n",
       "                        })                };                });            </script>        </div>"
      ]
     },
     "metadata": {},
     "output_type": "display_data"
    }
   ],
   "source": [
    "fig = px.bar(a, x='변수', y='상관관계' , labels={'y':'traffic_accident','x':'month'},\n",
    "             title='사고')\n",
    "fig.show()"
   ]
  },
  {
   "cell_type": "code",
   "execution_count": 63,
   "metadata": {
    "scrolled": true
   },
   "outputs": [
    {
     "data": {
      "application/vnd.plotly.v1+json": {
       "config": {
        "plotlyServerURL": "https://plot.ly"
       },
       "data": [
        {
         "insidetextorientation": "radial",
         "labels": [
          "차량_신호등갯수",
          "교통안전표시",
          "보행_신호등갯수",
          "횡단보도",
          "CCTV갯수",
          "안전지대",
          "총인구",
          "생산가능인구",
          "고령자인구",
          "유소년인구",
          "정차금지지대",
          "등록차량",
          "연면적",
          "경상자수",
          "최대경도",
          "평균경도_Lon",
          "최소경도",
          "사망자수",
          "최대 풍속 풍향(16방위)",
          "평균기온(°C)",
          "평균 지면온도(°C)",
          "최저기온(°C)",
          "부상신고자수",
          "최고기온(°C)",
          "최대 풍속(m/s)",
          "중상자수",
          "일 최심적설(cm)",
          "최소위도",
          "평균위도_Lat",
          "최대위도",
          "일강수량(mm)",
          "평균 상대습도(%)",
          "평균 풍속(m/s)",
          "안개 계속시간(hr)"
         ],
         "marker": {
          "line": {
           "color": "#000000",
           "width": 2
          }
         },
         "textfont": {
          "size": 8
         },
         "textinfo": "label+percent",
         "type": "pie",
         "values": [
          0.5561510595156292,
          0.5506453717584573,
          0.45475730151782817,
          0.41254971096433035,
          0.38890268126376537,
          0.25594376185352335,
          0.19832815627759778,
          0.19519026784362822,
          0.18106498865401716,
          0.16834480592908266,
          0.1347970959730103,
          0.07349628430078646,
          0.06967671840605172,
          0.061603204385088685,
          0.05758887851580528,
          0.05758879253380511,
          0.05758870655069588,
          0.038061379408487306,
          0.028551680336379268,
          0.023335946052751418,
          0.023217106751293234,
          0.022817033971908998,
          0.022738232561364865,
          0.02244580956323896,
          0.022348041269115715,
          0.01470068344166713,
          0.012873373639388624,
          0.012149189391727917,
          0.012148874023758303,
          0.012148558655476715,
          0.011229793844440832,
          0.008792433895188259,
          0.008003617975652374,
          0.0016479433354663802
         ]
        }
       ],
       "layout": {
        "template": {
         "data": {
          "bar": [
           {
            "error_x": {
             "color": "#2a3f5f"
            },
            "error_y": {
             "color": "#2a3f5f"
            },
            "marker": {
             "line": {
              "color": "#E5ECF6",
              "width": 0.5
             }
            },
            "type": "bar"
           }
          ],
          "barpolar": [
           {
            "marker": {
             "line": {
              "color": "#E5ECF6",
              "width": 0.5
             }
            },
            "type": "barpolar"
           }
          ],
          "carpet": [
           {
            "aaxis": {
             "endlinecolor": "#2a3f5f",
             "gridcolor": "white",
             "linecolor": "white",
             "minorgridcolor": "white",
             "startlinecolor": "#2a3f5f"
            },
            "baxis": {
             "endlinecolor": "#2a3f5f",
             "gridcolor": "white",
             "linecolor": "white",
             "minorgridcolor": "white",
             "startlinecolor": "#2a3f5f"
            },
            "type": "carpet"
           }
          ],
          "choropleth": [
           {
            "colorbar": {
             "outlinewidth": 0,
             "ticks": ""
            },
            "type": "choropleth"
           }
          ],
          "contour": [
           {
            "colorbar": {
             "outlinewidth": 0,
             "ticks": ""
            },
            "colorscale": [
             [
              0,
              "#0d0887"
             ],
             [
              0.1111111111111111,
              "#46039f"
             ],
             [
              0.2222222222222222,
              "#7201a8"
             ],
             [
              0.3333333333333333,
              "#9c179e"
             ],
             [
              0.4444444444444444,
              "#bd3786"
             ],
             [
              0.5555555555555556,
              "#d8576b"
             ],
             [
              0.6666666666666666,
              "#ed7953"
             ],
             [
              0.7777777777777778,
              "#fb9f3a"
             ],
             [
              0.8888888888888888,
              "#fdca26"
             ],
             [
              1,
              "#f0f921"
             ]
            ],
            "type": "contour"
           }
          ],
          "contourcarpet": [
           {
            "colorbar": {
             "outlinewidth": 0,
             "ticks": ""
            },
            "type": "contourcarpet"
           }
          ],
          "heatmap": [
           {
            "colorbar": {
             "outlinewidth": 0,
             "ticks": ""
            },
            "colorscale": [
             [
              0,
              "#0d0887"
             ],
             [
              0.1111111111111111,
              "#46039f"
             ],
             [
              0.2222222222222222,
              "#7201a8"
             ],
             [
              0.3333333333333333,
              "#9c179e"
             ],
             [
              0.4444444444444444,
              "#bd3786"
             ],
             [
              0.5555555555555556,
              "#d8576b"
             ],
             [
              0.6666666666666666,
              "#ed7953"
             ],
             [
              0.7777777777777778,
              "#fb9f3a"
             ],
             [
              0.8888888888888888,
              "#fdca26"
             ],
             [
              1,
              "#f0f921"
             ]
            ],
            "type": "heatmap"
           }
          ],
          "heatmapgl": [
           {
            "colorbar": {
             "outlinewidth": 0,
             "ticks": ""
            },
            "colorscale": [
             [
              0,
              "#0d0887"
             ],
             [
              0.1111111111111111,
              "#46039f"
             ],
             [
              0.2222222222222222,
              "#7201a8"
             ],
             [
              0.3333333333333333,
              "#9c179e"
             ],
             [
              0.4444444444444444,
              "#bd3786"
             ],
             [
              0.5555555555555556,
              "#d8576b"
             ],
             [
              0.6666666666666666,
              "#ed7953"
             ],
             [
              0.7777777777777778,
              "#fb9f3a"
             ],
             [
              0.8888888888888888,
              "#fdca26"
             ],
             [
              1,
              "#f0f921"
             ]
            ],
            "type": "heatmapgl"
           }
          ],
          "histogram": [
           {
            "marker": {
             "colorbar": {
              "outlinewidth": 0,
              "ticks": ""
             }
            },
            "type": "histogram"
           }
          ],
          "histogram2d": [
           {
            "colorbar": {
             "outlinewidth": 0,
             "ticks": ""
            },
            "colorscale": [
             [
              0,
              "#0d0887"
             ],
             [
              0.1111111111111111,
              "#46039f"
             ],
             [
              0.2222222222222222,
              "#7201a8"
             ],
             [
              0.3333333333333333,
              "#9c179e"
             ],
             [
              0.4444444444444444,
              "#bd3786"
             ],
             [
              0.5555555555555556,
              "#d8576b"
             ],
             [
              0.6666666666666666,
              "#ed7953"
             ],
             [
              0.7777777777777778,
              "#fb9f3a"
             ],
             [
              0.8888888888888888,
              "#fdca26"
             ],
             [
              1,
              "#f0f921"
             ]
            ],
            "type": "histogram2d"
           }
          ],
          "histogram2dcontour": [
           {
            "colorbar": {
             "outlinewidth": 0,
             "ticks": ""
            },
            "colorscale": [
             [
              0,
              "#0d0887"
             ],
             [
              0.1111111111111111,
              "#46039f"
             ],
             [
              0.2222222222222222,
              "#7201a8"
             ],
             [
              0.3333333333333333,
              "#9c179e"
             ],
             [
              0.4444444444444444,
              "#bd3786"
             ],
             [
              0.5555555555555556,
              "#d8576b"
             ],
             [
              0.6666666666666666,
              "#ed7953"
             ],
             [
              0.7777777777777778,
              "#fb9f3a"
             ],
             [
              0.8888888888888888,
              "#fdca26"
             ],
             [
              1,
              "#f0f921"
             ]
            ],
            "type": "histogram2dcontour"
           }
          ],
          "mesh3d": [
           {
            "colorbar": {
             "outlinewidth": 0,
             "ticks": ""
            },
            "type": "mesh3d"
           }
          ],
          "parcoords": [
           {
            "line": {
             "colorbar": {
              "outlinewidth": 0,
              "ticks": ""
             }
            },
            "type": "parcoords"
           }
          ],
          "pie": [
           {
            "automargin": true,
            "type": "pie"
           }
          ],
          "scatter": [
           {
            "marker": {
             "colorbar": {
              "outlinewidth": 0,
              "ticks": ""
             }
            },
            "type": "scatter"
           }
          ],
          "scatter3d": [
           {
            "line": {
             "colorbar": {
              "outlinewidth": 0,
              "ticks": ""
             }
            },
            "marker": {
             "colorbar": {
              "outlinewidth": 0,
              "ticks": ""
             }
            },
            "type": "scatter3d"
           }
          ],
          "scattercarpet": [
           {
            "marker": {
             "colorbar": {
              "outlinewidth": 0,
              "ticks": ""
             }
            },
            "type": "scattercarpet"
           }
          ],
          "scattergeo": [
           {
            "marker": {
             "colorbar": {
              "outlinewidth": 0,
              "ticks": ""
             }
            },
            "type": "scattergeo"
           }
          ],
          "scattergl": [
           {
            "marker": {
             "colorbar": {
              "outlinewidth": 0,
              "ticks": ""
             }
            },
            "type": "scattergl"
           }
          ],
          "scattermapbox": [
           {
            "marker": {
             "colorbar": {
              "outlinewidth": 0,
              "ticks": ""
             }
            },
            "type": "scattermapbox"
           }
          ],
          "scatterpolar": [
           {
            "marker": {
             "colorbar": {
              "outlinewidth": 0,
              "ticks": ""
             }
            },
            "type": "scatterpolar"
           }
          ],
          "scatterpolargl": [
           {
            "marker": {
             "colorbar": {
              "outlinewidth": 0,
              "ticks": ""
             }
            },
            "type": "scatterpolargl"
           }
          ],
          "scatterternary": [
           {
            "marker": {
             "colorbar": {
              "outlinewidth": 0,
              "ticks": ""
             }
            },
            "type": "scatterternary"
           }
          ],
          "surface": [
           {
            "colorbar": {
             "outlinewidth": 0,
             "ticks": ""
            },
            "colorscale": [
             [
              0,
              "#0d0887"
             ],
             [
              0.1111111111111111,
              "#46039f"
             ],
             [
              0.2222222222222222,
              "#7201a8"
             ],
             [
              0.3333333333333333,
              "#9c179e"
             ],
             [
              0.4444444444444444,
              "#bd3786"
             ],
             [
              0.5555555555555556,
              "#d8576b"
             ],
             [
              0.6666666666666666,
              "#ed7953"
             ],
             [
              0.7777777777777778,
              "#fb9f3a"
             ],
             [
              0.8888888888888888,
              "#fdca26"
             ],
             [
              1,
              "#f0f921"
             ]
            ],
            "type": "surface"
           }
          ],
          "table": [
           {
            "cells": {
             "fill": {
              "color": "#EBF0F8"
             },
             "line": {
              "color": "white"
             }
            },
            "header": {
             "fill": {
              "color": "#C8D4E3"
             },
             "line": {
              "color": "white"
             }
            },
            "type": "table"
           }
          ]
         },
         "layout": {
          "annotationdefaults": {
           "arrowcolor": "#2a3f5f",
           "arrowhead": 0,
           "arrowwidth": 1
          },
          "autotypenumbers": "strict",
          "coloraxis": {
           "colorbar": {
            "outlinewidth": 0,
            "ticks": ""
           }
          },
          "colorscale": {
           "diverging": [
            [
             0,
             "#8e0152"
            ],
            [
             0.1,
             "#c51b7d"
            ],
            [
             0.2,
             "#de77ae"
            ],
            [
             0.3,
             "#f1b6da"
            ],
            [
             0.4,
             "#fde0ef"
            ],
            [
             0.5,
             "#f7f7f7"
            ],
            [
             0.6,
             "#e6f5d0"
            ],
            [
             0.7,
             "#b8e186"
            ],
            [
             0.8,
             "#7fbc41"
            ],
            [
             0.9,
             "#4d9221"
            ],
            [
             1,
             "#276419"
            ]
           ],
           "sequential": [
            [
             0,
             "#0d0887"
            ],
            [
             0.1111111111111111,
             "#46039f"
            ],
            [
             0.2222222222222222,
             "#7201a8"
            ],
            [
             0.3333333333333333,
             "#9c179e"
            ],
            [
             0.4444444444444444,
             "#bd3786"
            ],
            [
             0.5555555555555556,
             "#d8576b"
            ],
            [
             0.6666666666666666,
             "#ed7953"
            ],
            [
             0.7777777777777778,
             "#fb9f3a"
            ],
            [
             0.8888888888888888,
             "#fdca26"
            ],
            [
             1,
             "#f0f921"
            ]
           ],
           "sequentialminus": [
            [
             0,
             "#0d0887"
            ],
            [
             0.1111111111111111,
             "#46039f"
            ],
            [
             0.2222222222222222,
             "#7201a8"
            ],
            [
             0.3333333333333333,
             "#9c179e"
            ],
            [
             0.4444444444444444,
             "#bd3786"
            ],
            [
             0.5555555555555556,
             "#d8576b"
            ],
            [
             0.6666666666666666,
             "#ed7953"
            ],
            [
             0.7777777777777778,
             "#fb9f3a"
            ],
            [
             0.8888888888888888,
             "#fdca26"
            ],
            [
             1,
             "#f0f921"
            ]
           ]
          },
          "colorway": [
           "#636efa",
           "#EF553B",
           "#00cc96",
           "#ab63fa",
           "#FFA15A",
           "#19d3f3",
           "#FF6692",
           "#B6E880",
           "#FF97FF",
           "#FECB52"
          ],
          "font": {
           "color": "#2a3f5f"
          },
          "geo": {
           "bgcolor": "white",
           "lakecolor": "white",
           "landcolor": "#E5ECF6",
           "showlakes": true,
           "showland": true,
           "subunitcolor": "white"
          },
          "hoverlabel": {
           "align": "left"
          },
          "hovermode": "closest",
          "mapbox": {
           "style": "light"
          },
          "paper_bgcolor": "white",
          "plot_bgcolor": "#E5ECF6",
          "polar": {
           "angularaxis": {
            "gridcolor": "white",
            "linecolor": "white",
            "ticks": ""
           },
           "bgcolor": "#E5ECF6",
           "radialaxis": {
            "gridcolor": "white",
            "linecolor": "white",
            "ticks": ""
           }
          },
          "scene": {
           "xaxis": {
            "backgroundcolor": "#E5ECF6",
            "gridcolor": "white",
            "gridwidth": 2,
            "linecolor": "white",
            "showbackground": true,
            "ticks": "",
            "zerolinecolor": "white"
           },
           "yaxis": {
            "backgroundcolor": "#E5ECF6",
            "gridcolor": "white",
            "gridwidth": 2,
            "linecolor": "white",
            "showbackground": true,
            "ticks": "",
            "zerolinecolor": "white"
           },
           "zaxis": {
            "backgroundcolor": "#E5ECF6",
            "gridcolor": "white",
            "gridwidth": 2,
            "linecolor": "white",
            "showbackground": true,
            "ticks": "",
            "zerolinecolor": "white"
           }
          },
          "shapedefaults": {
           "line": {
            "color": "#2a3f5f"
           }
          },
          "ternary": {
           "aaxis": {
            "gridcolor": "white",
            "linecolor": "white",
            "ticks": ""
           },
           "baxis": {
            "gridcolor": "white",
            "linecolor": "white",
            "ticks": ""
           },
           "bgcolor": "#E5ECF6",
           "caxis": {
            "gridcolor": "white",
            "linecolor": "white",
            "ticks": ""
           }
          },
          "title": {
           "x": 0.05
          },
          "xaxis": {
           "automargin": true,
           "gridcolor": "white",
           "linecolor": "white",
           "ticks": "",
           "title": {
            "standoff": 15
           },
           "zerolinecolor": "white",
           "zerolinewidth": 2
          },
          "yaxis": {
           "automargin": true,
           "gridcolor": "white",
           "linecolor": "white",
           "ticks": "",
           "title": {
            "standoff": 15
           },
           "zerolinecolor": "white",
           "zerolinewidth": 2
          }
         }
        }
       }
      },
      "text/html": [
       "<div>                            <div id=\"6133be70-7a17-4675-9dc8-7a88256a9b7c\" class=\"plotly-graph-div\" style=\"height:525px; width:100%;\"></div>            <script type=\"text/javascript\">                require([\"plotly\"], function(Plotly) {                    window.PLOTLYENV=window.PLOTLYENV || {};                                    if (document.getElementById(\"6133be70-7a17-4675-9dc8-7a88256a9b7c\")) {                    Plotly.newPlot(                        \"6133be70-7a17-4675-9dc8-7a88256a9b7c\",                        [{\"insidetextorientation\": \"radial\", \"labels\": [\"\\ucc28\\ub7c9_\\uc2e0\\ud638\\ub4f1\\uac2f\\uc218\", \"\\uad50\\ud1b5\\uc548\\uc804\\ud45c\\uc2dc\", \"\\ubcf4\\ud589_\\uc2e0\\ud638\\ub4f1\\uac2f\\uc218\", \"\\ud6a1\\ub2e8\\ubcf4\\ub3c4\", \"CCTV\\uac2f\\uc218\", \"\\uc548\\uc804\\uc9c0\\ub300\", \"\\ucd1d\\uc778\\uad6c\", \"\\uc0dd\\uc0b0\\uac00\\ub2a5\\uc778\\uad6c\", \"\\uace0\\ub839\\uc790\\uc778\\uad6c\", \"\\uc720\\uc18c\\ub144\\uc778\\uad6c\", \"\\uc815\\ucc28\\uae08\\uc9c0\\uc9c0\\ub300\", \"\\ub4f1\\ub85d\\ucc28\\ub7c9\", \"\\uc5f0\\uba74\\uc801\", \"\\uacbd\\uc0c1\\uc790\\uc218\", \"\\ucd5c\\ub300\\uacbd\\ub3c4\", \"\\ud3c9\\uade0\\uacbd\\ub3c4_Lon\", \"\\ucd5c\\uc18c\\uacbd\\ub3c4\", \"\\uc0ac\\ub9dd\\uc790\\uc218\", \"\\ucd5c\\ub300 \\ud48d\\uc18d \\ud48d\\ud5a5(16\\ubc29\\uc704)\", \"\\ud3c9\\uade0\\uae30\\uc628(\\u00b0C)\", \"\\ud3c9\\uade0 \\uc9c0\\uba74\\uc628\\ub3c4(\\u00b0C)\", \"\\ucd5c\\uc800\\uae30\\uc628(\\u00b0C)\", \"\\ubd80\\uc0c1\\uc2e0\\uace0\\uc790\\uc218\", \"\\ucd5c\\uace0\\uae30\\uc628(\\u00b0C)\", \"\\ucd5c\\ub300 \\ud48d\\uc18d(m/s)\", \"\\uc911\\uc0c1\\uc790\\uc218\", \"\\uc77c \\ucd5c\\uc2ec\\uc801\\uc124(cm)\", \"\\ucd5c\\uc18c\\uc704\\ub3c4\", \"\\ud3c9\\uade0\\uc704\\ub3c4_Lat\", \"\\ucd5c\\ub300\\uc704\\ub3c4\", \"\\uc77c\\uac15\\uc218\\ub7c9(mm)\", \"\\ud3c9\\uade0 \\uc0c1\\ub300\\uc2b5\\ub3c4(%)\", \"\\ud3c9\\uade0 \\ud48d\\uc18d(m/s)\", \"\\uc548\\uac1c \\uacc4\\uc18d\\uc2dc\\uac04(hr)\"], \"marker\": {\"line\": {\"color\": \"#000000\", \"width\": 2}}, \"textfont\": {\"size\": 8}, \"textinfo\": \"label+percent\", \"type\": \"pie\", \"values\": [0.5561510595156292, 0.5506453717584573, 0.45475730151782817, 0.41254971096433035, 0.38890268126376537, 0.25594376185352335, 0.19832815627759778, 0.19519026784362822, 0.18106498865401716, 0.16834480592908266, 0.1347970959730103, 0.07349628430078646, 0.06967671840605172, 0.061603204385088685, 0.05758887851580528, 0.05758879253380511, 0.05758870655069588, 0.038061379408487306, 0.028551680336379268, 0.023335946052751418, 0.023217106751293234, 0.022817033971908998, 0.022738232561364865, 0.02244580956323896, 0.022348041269115715, 0.01470068344166713, 0.012873373639388624, 0.012149189391727917, 0.012148874023758303, 0.012148558655476715, 0.011229793844440832, 0.008792433895188259, 0.008003617975652374, 0.0016479433354663802]}],                        {\"template\": {\"data\": {\"bar\": [{\"error_x\": {\"color\": \"#2a3f5f\"}, \"error_y\": {\"color\": \"#2a3f5f\"}, \"marker\": {\"line\": {\"color\": \"#E5ECF6\", \"width\": 0.5}}, \"type\": \"bar\"}], \"barpolar\": [{\"marker\": {\"line\": {\"color\": \"#E5ECF6\", \"width\": 0.5}}, \"type\": \"barpolar\"}], \"carpet\": [{\"aaxis\": {\"endlinecolor\": \"#2a3f5f\", \"gridcolor\": \"white\", \"linecolor\": \"white\", \"minorgridcolor\": \"white\", \"startlinecolor\": \"#2a3f5f\"}, \"baxis\": {\"endlinecolor\": \"#2a3f5f\", \"gridcolor\": \"white\", \"linecolor\": \"white\", \"minorgridcolor\": \"white\", \"startlinecolor\": \"#2a3f5f\"}, \"type\": \"carpet\"}], \"choropleth\": [{\"colorbar\": {\"outlinewidth\": 0, \"ticks\": \"\"}, \"type\": \"choropleth\"}], \"contour\": [{\"colorbar\": {\"outlinewidth\": 0, \"ticks\": \"\"}, \"colorscale\": [[0.0, \"#0d0887\"], [0.1111111111111111, \"#46039f\"], [0.2222222222222222, \"#7201a8\"], [0.3333333333333333, \"#9c179e\"], [0.4444444444444444, \"#bd3786\"], [0.5555555555555556, \"#d8576b\"], [0.6666666666666666, \"#ed7953\"], [0.7777777777777778, \"#fb9f3a\"], [0.8888888888888888, \"#fdca26\"], [1.0, \"#f0f921\"]], \"type\": \"contour\"}], \"contourcarpet\": [{\"colorbar\": {\"outlinewidth\": 0, \"ticks\": \"\"}, \"type\": \"contourcarpet\"}], \"heatmap\": [{\"colorbar\": {\"outlinewidth\": 0, \"ticks\": \"\"}, \"colorscale\": [[0.0, \"#0d0887\"], [0.1111111111111111, \"#46039f\"], [0.2222222222222222, \"#7201a8\"], [0.3333333333333333, \"#9c179e\"], [0.4444444444444444, \"#bd3786\"], [0.5555555555555556, \"#d8576b\"], [0.6666666666666666, \"#ed7953\"], [0.7777777777777778, \"#fb9f3a\"], [0.8888888888888888, \"#fdca26\"], [1.0, \"#f0f921\"]], \"type\": \"heatmap\"}], \"heatmapgl\": [{\"colorbar\": {\"outlinewidth\": 0, \"ticks\": \"\"}, \"colorscale\": [[0.0, \"#0d0887\"], [0.1111111111111111, \"#46039f\"], [0.2222222222222222, \"#7201a8\"], [0.3333333333333333, \"#9c179e\"], [0.4444444444444444, \"#bd3786\"], [0.5555555555555556, \"#d8576b\"], [0.6666666666666666, \"#ed7953\"], [0.7777777777777778, \"#fb9f3a\"], [0.8888888888888888, \"#fdca26\"], [1.0, \"#f0f921\"]], \"type\": \"heatmapgl\"}], \"histogram\": [{\"marker\": {\"colorbar\": {\"outlinewidth\": 0, \"ticks\": \"\"}}, \"type\": \"histogram\"}], \"histogram2d\": [{\"colorbar\": {\"outlinewidth\": 0, \"ticks\": \"\"}, \"colorscale\": [[0.0, \"#0d0887\"], [0.1111111111111111, \"#46039f\"], [0.2222222222222222, \"#7201a8\"], [0.3333333333333333, \"#9c179e\"], [0.4444444444444444, \"#bd3786\"], [0.5555555555555556, \"#d8576b\"], [0.6666666666666666, \"#ed7953\"], [0.7777777777777778, \"#fb9f3a\"], [0.8888888888888888, \"#fdca26\"], [1.0, \"#f0f921\"]], \"type\": \"histogram2d\"}], \"histogram2dcontour\": [{\"colorbar\": {\"outlinewidth\": 0, \"ticks\": \"\"}, \"colorscale\": [[0.0, \"#0d0887\"], [0.1111111111111111, \"#46039f\"], [0.2222222222222222, \"#7201a8\"], [0.3333333333333333, \"#9c179e\"], [0.4444444444444444, \"#bd3786\"], [0.5555555555555556, \"#d8576b\"], [0.6666666666666666, \"#ed7953\"], [0.7777777777777778, \"#fb9f3a\"], [0.8888888888888888, \"#fdca26\"], [1.0, \"#f0f921\"]], \"type\": \"histogram2dcontour\"}], \"mesh3d\": [{\"colorbar\": {\"outlinewidth\": 0, \"ticks\": \"\"}, \"type\": \"mesh3d\"}], \"parcoords\": [{\"line\": {\"colorbar\": {\"outlinewidth\": 0, \"ticks\": \"\"}}, \"type\": \"parcoords\"}], \"pie\": [{\"automargin\": true, \"type\": \"pie\"}], \"scatter\": [{\"marker\": {\"colorbar\": {\"outlinewidth\": 0, \"ticks\": \"\"}}, \"type\": \"scatter\"}], \"scatter3d\": [{\"line\": {\"colorbar\": {\"outlinewidth\": 0, \"ticks\": \"\"}}, \"marker\": {\"colorbar\": {\"outlinewidth\": 0, \"ticks\": \"\"}}, \"type\": \"scatter3d\"}], \"scattercarpet\": [{\"marker\": {\"colorbar\": {\"outlinewidth\": 0, \"ticks\": \"\"}}, \"type\": \"scattercarpet\"}], \"scattergeo\": [{\"marker\": {\"colorbar\": {\"outlinewidth\": 0, \"ticks\": \"\"}}, \"type\": \"scattergeo\"}], \"scattergl\": [{\"marker\": {\"colorbar\": {\"outlinewidth\": 0, \"ticks\": \"\"}}, \"type\": \"scattergl\"}], \"scattermapbox\": [{\"marker\": {\"colorbar\": {\"outlinewidth\": 0, \"ticks\": \"\"}}, \"type\": \"scattermapbox\"}], \"scatterpolar\": [{\"marker\": {\"colorbar\": {\"outlinewidth\": 0, \"ticks\": \"\"}}, \"type\": \"scatterpolar\"}], \"scatterpolargl\": [{\"marker\": {\"colorbar\": {\"outlinewidth\": 0, \"ticks\": \"\"}}, \"type\": \"scatterpolargl\"}], \"scatterternary\": [{\"marker\": {\"colorbar\": {\"outlinewidth\": 0, \"ticks\": \"\"}}, \"type\": \"scatterternary\"}], \"surface\": [{\"colorbar\": {\"outlinewidth\": 0, \"ticks\": \"\"}, \"colorscale\": [[0.0, \"#0d0887\"], [0.1111111111111111, \"#46039f\"], [0.2222222222222222, \"#7201a8\"], [0.3333333333333333, \"#9c179e\"], [0.4444444444444444, \"#bd3786\"], [0.5555555555555556, \"#d8576b\"], [0.6666666666666666, \"#ed7953\"], [0.7777777777777778, \"#fb9f3a\"], [0.8888888888888888, \"#fdca26\"], [1.0, \"#f0f921\"]], \"type\": \"surface\"}], \"table\": [{\"cells\": {\"fill\": {\"color\": \"#EBF0F8\"}, \"line\": {\"color\": \"white\"}}, \"header\": {\"fill\": {\"color\": \"#C8D4E3\"}, \"line\": {\"color\": \"white\"}}, \"type\": \"table\"}]}, \"layout\": {\"annotationdefaults\": {\"arrowcolor\": \"#2a3f5f\", \"arrowhead\": 0, \"arrowwidth\": 1}, \"autotypenumbers\": \"strict\", \"coloraxis\": {\"colorbar\": {\"outlinewidth\": 0, \"ticks\": \"\"}}, \"colorscale\": {\"diverging\": [[0, \"#8e0152\"], [0.1, \"#c51b7d\"], [0.2, \"#de77ae\"], [0.3, \"#f1b6da\"], [0.4, \"#fde0ef\"], [0.5, \"#f7f7f7\"], [0.6, \"#e6f5d0\"], [0.7, \"#b8e186\"], [0.8, \"#7fbc41\"], [0.9, \"#4d9221\"], [1, \"#276419\"]], \"sequential\": [[0.0, \"#0d0887\"], [0.1111111111111111, \"#46039f\"], [0.2222222222222222, \"#7201a8\"], [0.3333333333333333, \"#9c179e\"], [0.4444444444444444, \"#bd3786\"], [0.5555555555555556, \"#d8576b\"], [0.6666666666666666, \"#ed7953\"], [0.7777777777777778, \"#fb9f3a\"], [0.8888888888888888, \"#fdca26\"], [1.0, \"#f0f921\"]], \"sequentialminus\": [[0.0, \"#0d0887\"], [0.1111111111111111, \"#46039f\"], [0.2222222222222222, \"#7201a8\"], [0.3333333333333333, \"#9c179e\"], [0.4444444444444444, \"#bd3786\"], [0.5555555555555556, \"#d8576b\"], [0.6666666666666666, \"#ed7953\"], [0.7777777777777778, \"#fb9f3a\"], [0.8888888888888888, \"#fdca26\"], [1.0, \"#f0f921\"]]}, \"colorway\": [\"#636efa\", \"#EF553B\", \"#00cc96\", \"#ab63fa\", \"#FFA15A\", \"#19d3f3\", \"#FF6692\", \"#B6E880\", \"#FF97FF\", \"#FECB52\"], \"font\": {\"color\": \"#2a3f5f\"}, \"geo\": {\"bgcolor\": \"white\", \"lakecolor\": \"white\", \"landcolor\": \"#E5ECF6\", \"showlakes\": true, \"showland\": true, \"subunitcolor\": \"white\"}, \"hoverlabel\": {\"align\": \"left\"}, \"hovermode\": \"closest\", \"mapbox\": {\"style\": \"light\"}, \"paper_bgcolor\": \"white\", \"plot_bgcolor\": \"#E5ECF6\", \"polar\": {\"angularaxis\": {\"gridcolor\": \"white\", \"linecolor\": \"white\", \"ticks\": \"\"}, \"bgcolor\": \"#E5ECF6\", \"radialaxis\": {\"gridcolor\": \"white\", \"linecolor\": \"white\", \"ticks\": \"\"}}, \"scene\": {\"xaxis\": {\"backgroundcolor\": \"#E5ECF6\", \"gridcolor\": \"white\", \"gridwidth\": 2, \"linecolor\": \"white\", \"showbackground\": true, \"ticks\": \"\", \"zerolinecolor\": \"white\"}, \"yaxis\": {\"backgroundcolor\": \"#E5ECF6\", \"gridcolor\": \"white\", \"gridwidth\": 2, \"linecolor\": \"white\", \"showbackground\": true, \"ticks\": \"\", \"zerolinecolor\": \"white\"}, \"zaxis\": {\"backgroundcolor\": \"#E5ECF6\", \"gridcolor\": \"white\", \"gridwidth\": 2, \"linecolor\": \"white\", \"showbackground\": true, \"ticks\": \"\", \"zerolinecolor\": \"white\"}}, \"shapedefaults\": {\"line\": {\"color\": \"#2a3f5f\"}}, \"ternary\": {\"aaxis\": {\"gridcolor\": \"white\", \"linecolor\": \"white\", \"ticks\": \"\"}, \"baxis\": {\"gridcolor\": \"white\", \"linecolor\": \"white\", \"ticks\": \"\"}, \"bgcolor\": \"#E5ECF6\", \"caxis\": {\"gridcolor\": \"white\", \"linecolor\": \"white\", \"ticks\": \"\"}}, \"title\": {\"x\": 0.05}, \"xaxis\": {\"automargin\": true, \"gridcolor\": \"white\", \"linecolor\": \"white\", \"ticks\": \"\", \"title\": {\"standoff\": 15}, \"zerolinecolor\": \"white\", \"zerolinewidth\": 2}, \"yaxis\": {\"automargin\": true, \"gridcolor\": \"white\", \"linecolor\": \"white\", \"ticks\": \"\", \"title\": {\"standoff\": 15}, \"zerolinecolor\": \"white\", \"zerolinewidth\": 2}}}},                        {\"responsive\": true}                    ).then(function(){\n",
       "                            \n",
       "var gd = document.getElementById('6133be70-7a17-4675-9dc8-7a88256a9b7c');\n",
       "var x = new MutationObserver(function (mutations, observer) {{\n",
       "        var display = window.getComputedStyle(gd).display;\n",
       "        if (!display || display === 'none') {{\n",
       "            console.log([gd, 'removed!']);\n",
       "            Plotly.purge(gd);\n",
       "            observer.disconnect();\n",
       "        }}\n",
       "}});\n",
       "\n",
       "// Listen for the removal of the full notebook cells\n",
       "var notebookContainer = gd.closest('#notebook-container');\n",
       "if (notebookContainer) {{\n",
       "    x.observe(notebookContainer, {childList: true});\n",
       "}}\n",
       "\n",
       "// Listen for the clearing of the current output cell\n",
       "var outputEl = gd.closest('.output');\n",
       "if (outputEl) {{\n",
       "    x.observe(outputEl, {childList: true});\n",
       "}}\n",
       "\n",
       "                        })                };                });            </script>        </div>"
      ]
     },
     "metadata": {},
     "output_type": "display_data"
    }
   ],
   "source": [
    "변수 = a.iloc[1:,0].tolist()\n",
    "상관관계 = a.iloc[1:,1].tolist()\n",
    "\n",
    "fig = go.Figure(data=[go.Pie(labels=변수, values=상관관계, textinfo='label+percent',\n",
    "                            insidetextorientation='radial' \n",
    "                            )])\n",
    "fig.update_traces(textfont_size=8,marker=dict(line=dict(color='#000000', width=2)))\n",
    "fig.show()"
   ]
  },
  {
   "cell_type": "code",
   "execution_count": 64,
   "metadata": {},
   "outputs": [
    {
     "data": {
      "image/png": "[encoded data removed]",
      "text/plain": [
       "<Figure size 1080x1080 with 2 Axes>"
      ]
     },
     "metadata": {
      "needs_background": "light"
     },
     "output_type": "display_data"
    }
   ],
   "source": [
    "import matplotlib.pyplot as plt\n",
    "import seaborn as sns\n",
    "import numpy as np\n",
    "\n",
    "### 그래프 한글 깨짐 해결\n",
    "import platform\n",
    "platform.system()\n",
    "plt.rc('font', family='Malgun Gothic')\n",
    "plt.rc('axes', unicode_minus=False) #마이너스폰트 설정\n",
    "\n",
    "\n",
    "a = data2017.corr()\n",
    "# 그림 사이즈 지정\n",
    "fig, ax = plt.subplots( figsize=(15,15) )\n",
    "\n",
    "# 삼각형 마스크를 만든다(위 쪽 삼각형에 True, 아래 삼각형에 False)\n",
    "mask = np.zeros_like(a, dtype=np.bool)\n",
    "mask[np.triu_indices_from(mask)] = True\n",
    "\n",
    "# 히트맵을 그린다\n",
    "sns.heatmap(a, \n",
    "            cmap = 'RdYlBu_r', \n",
    "            annot = True,   # 실제 값을 표시한다\n",
    "            mask=mask,      # 표시하지 않을 마스크 부분을 지정한다\n",
    "            linewidths=.5,  # 경계면 실선으로 구분하기\n",
    "            cbar_kws={\"shrink\": .5},# 컬러바 크기 절반으로 줄이기\n",
    "            vmin = -1,vmax = 1   # 컬러바 범위 -1 ~ 1\n",
    "           )  \n",
    "plt.show()"
   ]
  },
  {
   "cell_type": "code",
   "execution_count": null,
   "metadata": {},
   "outputs": [],
   "source": []
  }
 ],
 "metadata": {
  "kernelspec": {
   "display_name": "Python 3",
   "language": "python",
   "name": "python3"
  },
  "language_info": {
   "codemirror_mode": {
    "name": "ipython",
    "version": 3
   },
   "file_extension": ".py",
   "mimetype": "text/x-python",
   "name": "python",
   "nbconvert_exporter": "python",
   "pygments_lexer": "ipython3",
   "version": "3.6.9"
  }
 },
 "nbformat": 4,
 "nbformat_minor": 4
}
